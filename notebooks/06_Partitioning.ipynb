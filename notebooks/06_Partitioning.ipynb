{
  "cells": [
    {
      "cell_type": "markdown",
      "metadata": {
        "id": "BNkZfzfxGZ0z"
      },
      "source": [
        "# Partitioning"
      ]
    },
    {
      "cell_type": "markdown",
      "metadata": {
        "id": "AQieQ5pkGfNm"
      },
      "source": [
        "## Prerrequisites"
      ]
    },
    {
      "cell_type": "markdown",
      "metadata": {
        "id": "HelxRmCPGpql"
      },
      "source": [
        "Install Spark and Java in VM"
      ]
    },
    {
      "cell_type": "code",
      "execution_count": 11,
      "metadata": {
        "id": "9Cn3c-ywGtDV"
      },
      "outputs": [],
      "source": [
        "# install Java8\n",
        "!apt-get install openjdk-8-jdk-headless -qq > /dev/null\n",
        "# download spark 3.5.3\n",
        "!wget -q https://dlcdn.apache.org/spark/spark-3.5.3/spark-3.5.3-bin-hadoop3.tgz"
      ]
    },
    {
      "cell_type": "code",
      "execution_count": 12,
      "metadata": {
        "colab": {
          "base_uri": "https://localhost:8080/"
        },
        "id": "D95sNcJfGvyV",
        "outputId": "f255e0ee-7d21-4d66-c0f2-5e94020951fc"
      },
      "outputs": [
        {
          "output_type": "stream",
          "name": "stdout",
          "text": [
            "total 391476\n",
            "drwxr-xr-x 1 root root      4096 Nov 25 19:13 \u001b[0m\u001b[01;34msample_data\u001b[0m/\n",
            "-rw-r--r-- 1 root root 400864419 Sep  9 05:35 spark-3.5.3-bin-hadoop3.tgz\n"
          ]
        }
      ],
      "source": [
        "ls -l # check the .tgz is there"
      ]
    },
    {
      "cell_type": "code",
      "execution_count": 13,
      "metadata": {
        "id": "qtBMGi7EGvwN"
      },
      "outputs": [],
      "source": [
        "# unzip it\n",
        "!tar xf spark-3.5.3-bin-hadoop3.tgz"
      ]
    },
    {
      "cell_type": "code",
      "execution_count": 14,
      "metadata": {
        "id": "6JO331NrGvtt"
      },
      "outputs": [],
      "source": [
        "!pip install -q findspark"
      ]
    },
    {
      "cell_type": "markdown",
      "metadata": {
        "id": "02epIDkbG24d"
      },
      "source": [
        "Defining the environment"
      ]
    },
    {
      "cell_type": "code",
      "execution_count": 15,
      "metadata": {
        "id": "qmON5zHJG4-m"
      },
      "outputs": [],
      "source": [
        "import os\n",
        "os.environ[\"JAVA_HOME\"] = \"/usr/lib/jvm/java-8-openjdk-amd64\"\n",
        "os.environ[\"SPARK_HOME\"] = \"/content/spark-3.5.3-bin-hadoop3\"\n",
        "os.environ[\"PYSPARK_SUBMIT_ARGS\"] = \"--master local[*] pyspark-shell\""
      ]
    },
    {
      "cell_type": "markdown",
      "metadata": {
        "id": "WgvNJQOAGZ00"
      },
      "source": [
        "Start Spark Session\n",
        "\n",
        "---"
      ]
    },
    {
      "cell_type": "code",
      "execution_count": 16,
      "metadata": {
        "colab": {
          "base_uri": "https://localhost:8080/",
          "height": 35
        },
        "id": "siaPZq4XGZ00",
        "outputId": "484af9e9-a459-4ed0-df60-ae65d6785e18"
      },
      "outputs": [
        {
          "output_type": "execute_result",
          "data": {
            "text/plain": [
              "'3.5.3'"
            ],
            "application/vnd.google.colaboratory.intrinsic+json": {
              "type": "string"
            }
          },
          "metadata": {},
          "execution_count": 16
        }
      ],
      "source": [
        "import findspark\n",
        "findspark.init(\"spark-3.5.3-bin-hadoop3\")# SPARK_HOME\n",
        "\n",
        "from pyspark.sql import SparkSession\n",
        "\n",
        "# create the session\n",
        "spark = SparkSession \\\n",
        "        .builder \\\n",
        "        .appName(\"Window Partitioning Exercises\") \\\n",
        "        .master(\"local[*]\") \\\n",
        "        .getOrCreate()\n",
        "\n",
        "spark.version"
      ]
    },
    {
      "cell_type": "code",
      "execution_count": 17,
      "metadata": {
        "id": "nsBkpLh6GZ01",
        "colab": {
          "base_uri": "https://localhost:8080/",
          "height": 221
        },
        "outputId": "eb5c994a-7c45-46e6-8197-616e709f5a1c"
      },
      "outputs": [
        {
          "output_type": "execute_result",
          "data": {
            "text/plain": [
              "<pyspark.sql.session.SparkSession at 0x797ea9923ac0>"
            ],
            "text/html": [
              "\n",
              "            <div>\n",
              "                <p><b>SparkSession - in-memory</b></p>\n",
              "                \n",
              "        <div>\n",
              "            <p><b>SparkContext</b></p>\n",
              "\n",
              "            <p><a href=\"http://c58124efd7d2:4040\">Spark UI</a></p>\n",
              "\n",
              "            <dl>\n",
              "              <dt>Version</dt>\n",
              "                <dd><code>v3.5.3</code></dd>\n",
              "              <dt>Master</dt>\n",
              "                <dd><code>local[*]</code></dd>\n",
              "              <dt>AppName</dt>\n",
              "                <dd><code>Window Partitioning Exercises</code></dd>\n",
              "            </dl>\n",
              "        </div>\n",
              "        \n",
              "            </div>\n",
              "        "
            ]
          },
          "metadata": {},
          "execution_count": 17
        }
      ],
      "source": [
        "spark"
      ]
    },
    {
      "cell_type": "code",
      "execution_count": 18,
      "metadata": {
        "id": "Bqu4fQnNGZ02"
      },
      "outputs": [],
      "source": [
        "# For Pandas conversion optimization\n",
        "spark.conf.set(\"spark.sql.execution.arrow.enabled\", \"true\")"
      ]
    },
    {
      "cell_type": "code",
      "execution_count": 19,
      "metadata": {
        "id": "-9DDmYQKGZ02"
      },
      "outputs": [],
      "source": [
        "# Import sql functions\n",
        "from pyspark.sql.functions import *"
      ]
    },
    {
      "cell_type": "markdown",
      "metadata": {
        "id": "NYrtXWZIHKMt"
      },
      "source": [
        "Download datasets"
      ]
    },
    {
      "cell_type": "code",
      "execution_count": 20,
      "metadata": {
        "id": "2lkKBm3CHL-l",
        "colab": {
          "base_uri": "https://localhost:8080/"
        },
        "outputId": "6f46eff6-6422-4411-923f-17f581f65923"
      },
      "outputs": [
        {
          "output_type": "stream",
          "name": "stdout",
          "text": [
            "bank.csv  characters.csv  planets.csv  species.csv  vehicles.csv\n"
          ]
        }
      ],
      "source": [
        "!mkdir -p /dataset\n",
        "!wget -q https://github.com/masfworld/datahack_docker/raw/master/zeppelin/data/bank.csv -P /dataset\n",
        "!wget -q https://github.com/masfworld/datahack_docker/raw/master/zeppelin/data/vehicles.csv -P /dataset\n",
        "!wget -q https://github.com/masfworld/datahack_docker/raw/master/zeppelin/data/characters.csv -P /dataset\n",
        "!wget -q https://github.com/masfworld/datahack_docker/raw/master/zeppelin/data/planets.csv -P /dataset\n",
        "!wget -q https://github.com/masfworld/datahack_docker/raw/master/zeppelin/data/species.csv -P /dataset\n",
        "!ls /dataset"
      ]
    },
    {
      "cell_type": "markdown",
      "metadata": {
        "id": "d1tEe9JCILAe"
      },
      "source": [
        "## Examples"
      ]
    },
    {
      "cell_type": "markdown",
      "metadata": {
        "id": "HWlZ5puMLqvX"
      },
      "source": [
        "### Patitioning"
      ]
    },
    {
      "cell_type": "code",
      "execution_count": 21,
      "metadata": {
        "id": "B10rScPeIOCn"
      },
      "outputs": [],
      "source": [
        "# Load characters CSV\n",
        "charactersDF = spark.read.option(\"inferSchema\", \"true\").option(\"header\", \"true\").csv(\"/dataset/characters.csv\")"
      ]
    },
    {
      "cell_type": "code",
      "execution_count": 22,
      "metadata": {
        "colab": {
          "base_uri": "https://localhost:8080/"
        },
        "id": "_z47cLpVJQgV",
        "outputId": "6049eaa6-e07f-41c9-b447-ea59d7a53b6a"
      },
      "outputs": [
        {
          "output_type": "stream",
          "name": "stdout",
          "text": [
            "+-----------+-----+\n",
            "|partitionId|count|\n",
            "+-----------+-----+\n",
            "|          0|   87|\n",
            "+-----------+-----+\n",
            "\n"
          ]
        }
      ],
      "source": [
        "# Show how the data is partitioned now\n",
        "charactersDF \\\n",
        "  .withColumn(\"partitionId\", spark_partition_id()) \\\n",
        "  .groupBy(\"partitionId\") \\\n",
        "  .count() \\\n",
        "  .orderBy(col(\"count\").desc()) \\\n",
        "  .show()"
      ]
    },
    {
      "cell_type": "code",
      "execution_count": 23,
      "metadata": {
        "colab": {
          "base_uri": "https://localhost:8080/"
        },
        "id": "NGfdi2WhJQeH",
        "outputId": "b0c90191-5ff3-44ed-d429-8a132c19790e"
      },
      "outputs": [
        {
          "output_type": "stream",
          "name": "stdout",
          "text": [
            "+-----------+-----+\n",
            "|partitionId|count|\n",
            "+-----------+-----+\n",
            "|          0|    4|\n",
            "|          1|    4|\n",
            "|          2|    4|\n",
            "|          3|    4|\n",
            "|          4|    4|\n",
            "|          5|    4|\n",
            "|          6|    4|\n",
            "|          7|    4|\n",
            "|          8|    4|\n",
            "|          9|    5|\n",
            "|         10|    5|\n",
            "|         11|    5|\n",
            "|         12|    5|\n",
            "|         13|    5|\n",
            "|         14|    5|\n",
            "|         15|    5|\n",
            "|         16|    4|\n",
            "|         17|    4|\n",
            "|         18|    4|\n",
            "|         19|    4|\n",
            "+-----------+-----+\n",
            "\n"
          ]
        }
      ],
      "source": [
        "# We will now repartition the DF to 20 partitions\n",
        "charactersRepDF = charactersDF.repartition(20)\n",
        "charactersRepDF \\\n",
        "  .withColumn(\"partitionId\", spark_partition_id()) \\\n",
        "  .groupBy(\"partitionId\") \\\n",
        "  .count() \\\n",
        "  .orderBy(col(\"partitionId\")) \\\n",
        "  .show()"
      ]
    },
    {
      "cell_type": "code",
      "execution_count": 24,
      "metadata": {
        "colab": {
          "base_uri": "https://localhost:8080/"
        },
        "id": "sEwePVEfJvMN",
        "outputId": "166c5925-d1bb-409e-bb59-ce7d11528216"
      },
      "outputs": [
        {
          "output_type": "stream",
          "name": "stdout",
          "text": [
            "+-----------+-----+\n",
            "|partitionId|count|\n",
            "+-----------+-----+\n",
            "|          0|   17|\n",
            "|          1|   18|\n",
            "|          2|   18|\n",
            "|          3|   17|\n",
            "|          4|   17|\n",
            "+-----------+-----+\n",
            "\n"
          ]
        }
      ],
      "source": [
        "# Now we can use coalesce to reduce the number of partitions\n",
        "charactersRepDF \\\n",
        "  .coalesce(5) \\\n",
        "  .withColumn(\"partitionId\", spark_partition_id()) \\\n",
        "  .groupBy(\"partitionId\") \\\n",
        "  .count() \\\n",
        "  .orderBy(col(\"partitionId\")) \\\n",
        "  .show()"
      ]
    },
    {
      "cell_type": "markdown",
      "metadata": {
        "id": "sxWVtHu5GZ02"
      },
      "source": [
        "## Partitioning Exercises"
      ]
    },
    {
      "cell_type": "markdown",
      "metadata": {
        "id": "rZt5nAVLRmeF"
      },
      "source": [
        "1. Try repartition/colaesce yourself"
      ]
    },
    {
      "cell_type": "code",
      "execution_count": null,
      "metadata": {
        "id": "DF-WHVfjRq49"
      },
      "outputs": [],
      "source": []
    }
  ],
  "metadata": {
    "colab": {
      "provenance": []
    },
    "kernelspec": {
      "display_name": "Python 3.10.0 64-bit",
      "language": "python",
      "name": "python3"
    },
    "language_info": {
      "codemirror_mode": {
        "name": "ipython",
        "version": 3
      },
      "file_extension": ".py",
      "mimetype": "text/x-python",
      "name": "python",
      "nbconvert_exporter": "python",
      "pygments_lexer": "ipython3",
      "version": "3.10.0"
    },
    "orig_nbformat": 4,
    "vscode": {
      "interpreter": {
        "hash": "ff1af5cda0bea4fe5c4ebc1f94ab9f13d8998f98d08e16d8aba48673b9d00116"
      }
    }
  },
  "nbformat": 4,
  "nbformat_minor": 0
}