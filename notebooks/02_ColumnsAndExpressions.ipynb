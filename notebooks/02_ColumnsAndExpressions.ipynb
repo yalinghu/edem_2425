{
  "cells": [
    {
      "cell_type": "markdown",
      "metadata": {
        "id": "eyZfoGe_trKF"
      },
      "source": [
        "# Columns and Expressions"
      ]
    },
    {
      "cell_type": "markdown",
      "metadata": {
        "id": "OF1B2ocetvbn"
      },
      "source": [
        "## Prerrequisites"
      ]
    },
    {
      "cell_type": "markdown",
      "metadata": {
        "id": "l_Vt3AVEt3uX"
      },
      "source": [
        "Install Spark and Java in VM"
      ]
    },
    {
      "cell_type": "code",
      "execution_count": 39,
      "metadata": {
        "colab": {
          "base_uri": "https://localhost:8080/"
        },
        "id": "JrJqxyXZt9wn",
        "outputId": "bc76110c-b82e-4c09-b591-c476c4c41a5b"
      },
      "outputs": [
        {
          "name": "stdout",
          "output_type": "stream",
          "text": [
            "^C\n"
          ]
        }
      ],
      "source": [
        "# install Java8\n",
        "!apt-get install openjdk-8-jdk-headless -qq > /dev/null\n",
        "# download spark 3.5.3\n",
        "!wget -q https://dlcdn.apache.org/spark/spark-3.5.3/spark-3.5.3-bin-hadoop3.tgz"
      ]
    },
    {
      "cell_type": "code",
      "execution_count": null,
      "metadata": {
        "colab": {
          "base_uri": "https://localhost:8080/"
        },
        "id": "WBfjT1TouA1O",
        "outputId": "989ecc33-6e41-4563-bb38-36e344cf29ef"
      },
      "outputs": [
        {
          "name": "stdout",
          "output_type": "stream",
          "text": [
            "total 391476\n",
            "drwxr-xr-x 1 root root      4096 Nov 22 14:23 \u001b[0m\u001b[01;34msample_data\u001b[0m/\n",
            "-rw-r--r-- 1 root root 400864419 Sep  9 05:35 spark-3.5.3-bin-hadoop3.tgz\n"
          ]
        }
      ],
      "source": [
        "ls -l # check the .tgz is there"
      ]
    },
    {
      "cell_type": "code",
      "execution_count": null,
      "metadata": {
        "id": "bHueJOLRuD2H"
      },
      "outputs": [],
      "source": [
        "# unzip it\n",
        "!tar xf spark-3.5.3-bin-hadoop3.tgz\n"
      ]
    },
    {
      "cell_type": "code",
      "execution_count": null,
      "metadata": {
        "id": "arpGbc-EuDlH"
      },
      "outputs": [],
      "source": [
        "!pip install -q findspark"
      ]
    },
    {
      "cell_type": "code",
      "execution_count": null,
      "metadata": {
        "colab": {
          "base_uri": "https://localhost:8080/"
        },
        "id": "Bc6eiLp0uKov",
        "outputId": "c3aabd19-8593-4998-90c9-15e6bf21a066"
      },
      "outputs": [
        {
          "name": "stdout",
          "output_type": "stream",
          "text": [
            "Requirement already satisfied: py4j in /usr/local/lib/python3.10/dist-packages (0.10.9.7)\n",
            "Requirement already satisfied: folium in /usr/local/lib/python3.10/dist-packages (0.18.0)\n",
            "Requirement already satisfied: branca>=0.6.0 in /usr/local/lib/python3.10/dist-packages (from folium) (0.8.0)\n",
            "Requirement already satisfied: jinja2>=2.9 in /usr/local/lib/python3.10/dist-packages (from folium) (3.1.4)\n",
            "Requirement already satisfied: numpy in /usr/local/lib/python3.10/dist-packages (from folium) (1.26.4)\n",
            "Requirement already satisfied: requests in /usr/local/lib/python3.10/dist-packages (from folium) (2.32.3)\n",
            "Requirement already satisfied: xyzservices in /usr/local/lib/python3.10/dist-packages (from folium) (2024.9.0)\n",
            "Requirement already satisfied: MarkupSafe>=2.0 in /usr/local/lib/python3.10/dist-packages (from jinja2>=2.9->folium) (3.0.2)\n",
            "Requirement already satisfied: charset-normalizer<4,>=2 in /usr/local/lib/python3.10/dist-packages (from requests->folium) (3.4.0)\n",
            "Requirement already satisfied: idna<4,>=2.5 in /usr/local/lib/python3.10/dist-packages (from requests->folium) (3.10)\n",
            "Requirement already satisfied: urllib3<3,>=1.21.1 in /usr/local/lib/python3.10/dist-packages (from requests->folium) (2.2.3)\n",
            "Requirement already satisfied: certifi>=2017.4.17 in /usr/local/lib/python3.10/dist-packages (from requests->folium) (2024.8.30)\n",
            "Requirement already satisfied: plotly in /usr/local/lib/python3.10/dist-packages (5.24.1)\n",
            "Requirement already satisfied: tenacity>=6.2.0 in /usr/local/lib/python3.10/dist-packages (from plotly) (9.0.0)\n",
            "Requirement already satisfied: packaging in /usr/local/lib/python3.10/dist-packages (from plotly) (24.2)\n"
          ]
        }
      ],
      "source": [
        "\n",
        "!pip install py4j\n",
        "\n",
        "# For maps\n",
        "!pip install folium\n",
        "!pip install plotly"
      ]
    },
    {
      "cell_type": "markdown",
      "metadata": {
        "id": "mfEdQvJLuP7Y"
      },
      "source": [
        "Define the environment"
      ]
    },
    {
      "cell_type": "code",
      "execution_count": null,
      "metadata": {
        "id": "zU_829Z5uPEv"
      },
      "outputs": [],
      "source": [
        "import os\n",
        "os.environ[\"JAVA_HOME\"] = \"/usr/lib/jvm/java-8-openjdk-amd64\"\n",
        "os.environ[\"SPARK_HOME\"] = \"/content/spark-3.5.3-bin-hadoop3\"\n",
        "os.environ[\"PYSPARK_SUBMIT_ARGS\"] = \"--master local[*] pyspark-shell\""
      ]
    },
    {
      "cell_type": "markdown",
      "metadata": {
        "id": "GByUn4STtrKH"
      },
      "source": [
        "Start Spark Session\n",
        "\n",
        "---"
      ]
    },
    {
      "cell_type": "code",
      "execution_count": null,
      "metadata": {
        "colab": {
          "base_uri": "https://localhost:8080/",
          "height": 35
        },
        "id": "lW82io8xtrKI",
        "outputId": "6fe81591-63ba-444e-b5ed-7b71792947ef"
      },
      "outputs": [
        {
          "data": {
            "application/vnd.google.colaboratory.intrinsic+json": {
              "type": "string"
            },
            "text/plain": [
              "'3.5.3'"
            ]
          },
          "execution_count": 31,
          "metadata": {},
          "output_type": "execute_result"
        }
      ],
      "source": [
        "import findspark\n",
        "findspark.init(\"spark-3.5.3-bin-hadoop3\")# SPARK_HOME\n",
        "\n",
        "from pyspark.sql import SparkSession\n",
        "\n",
        "# create the session\n",
        "spark = SparkSession \\\n",
        "        .builder \\\n",
        "        .appName(\"Columns and Expressions\") \\\n",
        "        .master(\"local[*]\") \\\n",
        "        .getOrCreate()\n",
        "\n",
        "spark.version"
      ]
    },
    {
      "cell_type": "code",
      "execution_count": null,
      "metadata": {
        "colab": {
          "base_uri": "https://localhost:8080/",
          "height": 221
        },
        "id": "Xe0_i5fHtrKJ",
        "outputId": "32cf1f1b-e44f-4431-fae8-68dad60ee99a"
      },
      "outputs": [
        {
          "data": {
            "text/html": [
              "\n",
              "            <div>\n",
              "                <p><b>SparkSession - in-memory</b></p>\n",
              "                \n",
              "        <div>\n",
              "            <p><b>SparkContext</b></p>\n",
              "\n",
              "            <p><a href=\"http://2e617b78da94:4040\">Spark UI</a></p>\n",
              "\n",
              "            <dl>\n",
              "              <dt>Version</dt>\n",
              "                <dd><code>v3.5.3</code></dd>\n",
              "              <dt>Master</dt>\n",
              "                <dd><code>local[*]</code></dd>\n",
              "              <dt>AppName</dt>\n",
              "                <dd><code>Columns and Expressions</code></dd>\n",
              "            </dl>\n",
              "        </div>\n",
              "        \n",
              "            </div>\n",
              "        "
            ],
            "text/plain": [
              "<pyspark.sql.session.SparkSession at 0x7915e58a01c0>"
            ]
          },
          "execution_count": 32,
          "metadata": {},
          "output_type": "execute_result"
        }
      ],
      "source": [
        "spark"
      ]
    },
    {
      "cell_type": "code",
      "execution_count": null,
      "metadata": {
        "id": "mIXSyPeytrKJ"
      },
      "outputs": [],
      "source": [
        "# For Pandas conversion optimization\n",
        "spark.conf.set(\"spark.sql.execution.arrow.enabled\", \"true\")"
      ]
    },
    {
      "cell_type": "code",
      "execution_count": null,
      "metadata": {
        "id": "SsEHbN1HtrKJ"
      },
      "outputs": [],
      "source": [
        "# Import sql functions\n",
        "from pyspark.sql.functions import *"
      ]
    },
    {
      "cell_type": "markdown",
      "metadata": {
        "id": "Cc8OP9YSu3KY"
      },
      "source": [
        "Download datasets"
      ]
    },
    {
      "cell_type": "code",
      "execution_count": null,
      "metadata": {
        "colab": {
          "base_uri": "https://localhost:8080/"
        },
        "id": "vgd-xCVUu5e4",
        "outputId": "be8f35e9-0214-4d87-89d6-6ca46db567a5"
      },
      "outputs": [
        {
          "name": "stdout",
          "output_type": "stream",
          "text": [
            "cars.json  more_cars.json  movies.json\n"
          ]
        }
      ],
      "source": [
        "!mkdir -p dataset\n",
        "!wget -q https://raw.githubusercontent.com/paponsro/spark_edem_2324/master/dataset/cars.json -P /dataset\n",
        "!wget -q https://raw.githubusercontent.com/paponsro/spark_edem_2324/master/dataset/movies.json -P /dataset\n",
        "!wget -q https://raw.githubusercontent.com/paponsro/spark_edem_2324/master/dataset/more_cars.json -P /dataset\n",
        "!ls /dataset"
      ]
    },
    {
      "cell_type": "markdown",
      "metadata": {
        "id": "2m7U4JG7trKK"
      },
      "source": [
        "Read JSON file"
      ]
    },
    {
      "cell_type": "code",
      "execution_count": null,
      "metadata": {
        "id": "j40ajnajtrKK"
      },
      "outputs": [],
      "source": [
        "carsDF = spark.read \\\n",
        "    .option(\"inferSchema\", True) \\\n",
        "    .json(\"/dataset/cars.json\")"
      ]
    },
    {
      "cell_type": "markdown",
      "metadata": {
        "id": "rBegVS5dtrKK"
      },
      "source": [
        "## Examples"
      ]
    },
    {
      "cell_type": "markdown",
      "metadata": {
        "id": "-j-DuH6xtrKL"
      },
      "source": [
        "Select a column"
      ]
    },
    {
      "cell_type": "code",
      "execution_count": null,
      "metadata": {
        "colab": {
          "base_uri": "https://localhost:8080/"
        },
        "id": "pJeRA5chtrKL",
        "outputId": "b076483f-b15d-4924-9cc5-6992af2b1905"
      },
      "outputs": [
        {
          "name": "stdout",
          "output_type": "stream",
          "text": [
            "+-------------------------+\n",
            "|Name                     |\n",
            "+-------------------------+\n",
            "|chevrolet chevelle malibu|\n",
            "|buick skylark 320        |\n",
            "|plymouth satellite       |\n",
            "+-------------------------+\n",
            "only showing top 3 rows\n",
            "\n"
          ]
        }
      ],
      "source": [
        "carsDF.select(col(\"Name\")).show(3, False)"
      ]
    },
    {
      "cell_type": "markdown",
      "metadata": {
        "id": "1Wd_xjFOY9Tl"
      },
      "source": [
        "We can use various methods to refer a column"
      ]
    },
    {
      "cell_type": "code",
      "execution_count": 41,
      "metadata": {
        "colab": {
          "base_uri": "https://localhost:8080/"
        },
        "id": "RJYKyUputrKL",
        "outputId": "00939496-538d-4703-ddcc-883b309d555c"
      },
      "outputs": [
        {
          "name": "stdout",
          "output_type": "stream",
          "text": [
            "+--------------------+------------+-------------+\n",
            "|                Name|Acceleration|Weight_in_lbs|\n",
            "+--------------------+------------+-------------+\n",
            "|chevrolet chevell...|        12.0|         3504|\n",
            "|   buick skylark 320|        11.5|         3693|\n",
            "|  plymouth satellite|        11.0|         3436|\n",
            "+--------------------+------------+-------------+\n",
            "only showing top 3 rows\n",
            "\n"
          ]
        }
      ],
      "source": [
        "# various select methods\n",
        "carsDF.select(\n",
        "    carsDF.Name,\n",
        "    col(\"Acceleration\"),\n",
        "    \"Weight_in_lbs\"\n",
        ").show(3)"
      ]
    },
    {
      "cell_type": "markdown",
      "metadata": {
        "id": "1BHOu4KEtrKL"
      },
      "source": [
        "Expressions. We can use SQL like expression inside select to make operations with a column"
      ]
    },
    {
      "cell_type": "code",
      "execution_count": 42,
      "metadata": {
        "colab": {
          "base_uri": "https://localhost:8080/"
        },
        "id": "-OGl-DU7trKM",
        "outputId": "2e788268-445a-4b73-aead-6614200e24b1"
      },
      "outputs": [
        {
          "name": "stdout",
          "output_type": "stream",
          "text": [
            "root\n",
            " |-- Name: string (nullable = true)\n",
            " |-- Weight_in_lbs: long (nullable = true)\n",
            " |-- Weight_in_kg_2: integer (nullable = true)\n",
            " |-- Weight_in_T: string (nullable = true)\n",
            "\n",
            "+--------------------+-------------+--------------+-----------+\n",
            "|                Name|Weight_in_lbs|Weight_in_kg_2|Weight_in_T|\n",
            "+--------------------+-------------+--------------+-----------+\n",
            "|chevrolet chevell...|         3504|          1592|      3.504|\n",
            "|   buick skylark 320|         3693|          1678|      3.693|\n",
            "|  plymouth satellite|         3436|          1561|      3.436|\n",
            "+--------------------+-------------+--------------+-----------+\n",
            "only showing top 3 rows\n",
            "\n"
          ]
        }
      ],
      "source": [
        "carsWithKgDF = carsDF.select(\n",
        "    col(\"Name\"),\n",
        "    col(\"Weight_in_lbs\"),\n",
        "    (col(\"Weight_in_lbs\")/2.2).cast(\"int\").alias(\"Weight_in_kg_2\"), #cast result to int\n",
        "    expr(\"Weight_in_lbs / 1000\").cast(\"string\").alias(\"Weight_in_T\") #cast result to str\n",
        ")\n",
        "carsWithKgDF.printSchema()\n",
        "carsWithKgDF.show(3)"
      ]
    },
    {
      "cell_type": "code",
      "execution_count": 43,
      "metadata": {
        "colab": {
          "base_uri": "https://localhost:8080/"
        },
        "id": "NZYAC9A8trKM",
        "outputId": "d64dcc23-ac3c-4251-d023-a6768d7bc9d5"
      },
      "outputs": [
        {
          "name": "stdout",
          "output_type": "stream",
          "text": [
            "+--------------------+-------------+---------------------+\n",
            "|                Name|Weight_in_lbs|(Weight_in_lbs / 2.2)|\n",
            "+--------------------+-------------+---------------------+\n",
            "|chevrolet chevell...|         3504|          1592.727273|\n",
            "|   buick skylark 320|         3693|          1678.636364|\n",
            "|  plymouth satellite|         3436|          1561.818182|\n",
            "+--------------------+-------------+---------------------+\n",
            "only showing top 3 rows\n",
            "\n"
          ]
        }
      ],
      "source": [
        "# with expressions\n",
        "carsWithSelectExprWeightsDF = carsDF.selectExpr(\n",
        "    \"Name\",\n",
        "    \"Weight_in_lbs\",\n",
        "    \"Weight_in_lbs / 2.2\"\n",
        "  )\n",
        "carsWithSelectExprWeightsDF.show(3)"
      ]
    },
    {
      "cell_type": "markdown",
      "metadata": {
        "id": "LDwREHXhtrKM"
      },
      "source": [
        "### DF Processing"
      ]
    },
    {
      "cell_type": "markdown",
      "metadata": {
        "id": "D-12eNHDtrKM"
      },
      "source": [
        "Add a column"
      ]
    },
    {
      "cell_type": "code",
      "execution_count": 44,
      "metadata": {
        "colab": {
          "base_uri": "https://localhost:8080/"
        },
        "id": "S09Nw_iytrKM",
        "outputId": "1f6d0c68-f558-4361-b990-9a404174a46f"
      },
      "outputs": [
        {
          "name": "stdout",
          "output_type": "stream",
          "text": [
            "+------------+---------+------------+----------+----------------+--------------------+------+-------------+----------+------------------+\n",
            "|Acceleration|Cylinders|Displacement|Horsepower|Miles_per_Gallon|                Name|Origin|Weight_in_lbs|      Year|    Weight_in_kg_3|\n",
            "+------------+---------+------------+----------+----------------+--------------------+------+-------------+----------+------------------+\n",
            "|        12.0|        8|       307.0|       130|            18.0|chevrolet chevell...|   USA|         3504|1970-01-01|1592.7272727272725|\n",
            "|        11.5|        8|       350.0|       165|            15.0|   buick skylark 320|   USA|         3693|1970-01-01|1678.6363636363635|\n",
            "|        11.0|        8|       318.0|       150|            18.0|  plymouth satellite|   USA|         3436|1970-01-01|1561.8181818181818|\n",
            "+------------+---------+------------+----------+----------------+--------------------+------+-------------+----------+------------------+\n",
            "only showing top 3 rows\n",
            "\n"
          ]
        }
      ],
      "source": [
        "carsWithKg3DF = carsDF.withColumn(\"Weight_in_kg_3\", col(\"Weight_in_lbs\") / 2.2)\n",
        "carsWithKg3DF.show(3)"
      ]
    },
    {
      "cell_type": "markdown",
      "metadata": {
        "id": "SaYkSZ-AtrKN"
      },
      "source": [
        "Rename a column"
      ]
    },
    {
      "cell_type": "code",
      "execution_count": 45,
      "metadata": {
        "colab": {
          "base_uri": "https://localhost:8080/"
        },
        "id": "5m8EFdTBtrKN",
        "outputId": "169a5353-b391-4b98-cc9f-ae075f6de117"
      },
      "outputs": [
        {
          "name": "stdout",
          "output_type": "stream",
          "text": [
            "+------------+---------+------------+----------+----------------+--------------------+------+----------------+----------+\n",
            "|Acceleration|Cylinders|Displacement|Horsepower|Miles_per_Gallon|                Name|Origin|Weight in pounds|      Year|\n",
            "+------------+---------+------------+----------+----------------+--------------------+------+----------------+----------+\n",
            "|        12.0|        8|       307.0|       130|            18.0|chevrolet chevell...|   USA|            3504|1970-01-01|\n",
            "|        11.5|        8|       350.0|       165|            15.0|   buick skylark 320|   USA|            3693|1970-01-01|\n",
            "|        11.0|        8|       318.0|       150|            18.0|  plymouth satellite|   USA|            3436|1970-01-01|\n",
            "+------------+---------+------------+----------+----------------+--------------------+------+----------------+----------+\n",
            "only showing top 3 rows\n",
            "\n"
          ]
        }
      ],
      "source": [
        "carsWithColumnRenamed = carsDF.withColumnRenamed(\"Weight_in_lbs\", \"Weight in pounds\")\n",
        "carsWithColumnRenamed.show(3)"
      ]
    },
    {
      "cell_type": "code",
      "execution_count": 51,
      "metadata": {
        "id": "zzwPcSFqtrKN"
      },
      "outputs": [],
      "source": [
        "# careful with column names\n",
        "# carsWithColumnRenamed.selectExpr(\"Weight in pounds\")"
      ]
    },
    {
      "cell_type": "code",
      "execution_count": 52,
      "metadata": {
        "colab": {
          "base_uri": "https://localhost:8080/"
        },
        "id": "8Y0Ir5jBtrKN",
        "outputId": "7ea938d4-dafe-4506-d0d3-b7d9f428f48d"
      },
      "outputs": [
        {
          "name": "stdout",
          "output_type": "stream",
          "text": [
            "+----------------+\n",
            "|Weight in pounds|\n",
            "+----------------+\n",
            "|            3504|\n",
            "|            3693|\n",
            "|            3436|\n",
            "+----------------+\n",
            "only showing top 3 rows\n",
            "\n"
          ]
        }
      ],
      "source": [
        "# as we hace special characters (spaces) we have to use the ``\n",
        "carsWithColumnRenamed.selectExpr(\"`Weight in pounds`\").show(3)"
      ]
    },
    {
      "cell_type": "markdown",
      "metadata": {
        "id": "mkqoz74TtrKN"
      },
      "source": [
        "Remove a column"
      ]
    },
    {
      "cell_type": "code",
      "execution_count": 53,
      "metadata": {
        "colab": {
          "base_uri": "https://localhost:8080/"
        },
        "id": "6qaH5KLhtrKO",
        "outputId": "2932699a-867d-4faa-ec62-fb3b15d9bfbb"
      },
      "outputs": [
        {
          "name": "stdout",
          "output_type": "stream",
          "text": [
            "root\n",
            " |-- Acceleration: double (nullable = true)\n",
            " |-- Cylinders: long (nullable = true)\n",
            " |-- Displacement: double (nullable = true)\n",
            " |-- Horsepower: long (nullable = true)\n",
            " |-- Miles_per_Gallon: double (nullable = true)\n",
            " |-- Name: string (nullable = true)\n",
            " |-- Origin: string (nullable = true)\n",
            " |-- Weight in pounds: long (nullable = true)\n",
            " |-- Year: string (nullable = true)\n",
            "\n"
          ]
        }
      ],
      "source": [
        "carsWithColumnRenamed.printSchema()"
      ]
    },
    {
      "cell_type": "code",
      "execution_count": 54,
      "metadata": {
        "colab": {
          "base_uri": "https://localhost:8080/"
        },
        "id": "SE_SvbNNtrKO",
        "outputId": "ed1ceaab-0672-4259-e0fd-d6502fe8f929"
      },
      "outputs": [
        {
          "name": "stdout",
          "output_type": "stream",
          "text": [
            "root\n",
            " |-- Acceleration: double (nullable = true)\n",
            " |-- Horsepower: long (nullable = true)\n",
            " |-- Miles_per_Gallon: double (nullable = true)\n",
            " |-- Name: string (nullable = true)\n",
            " |-- Origin: string (nullable = true)\n",
            " |-- Weight in pounds: long (nullable = true)\n",
            " |-- Year: string (nullable = true)\n",
            "\n"
          ]
        }
      ],
      "source": [
        "dropColsDF = carsWithColumnRenamed.drop(\"Cylinders\", \"Displacement\")\n",
        "dropColsDF.printSchema()\n"
      ]
    },
    {
      "cell_type": "markdown",
      "metadata": {
        "id": "QKtbVrvBtrKO"
      },
      "source": [
        "Filtering"
      ]
    },
    {
      "cell_type": "code",
      "execution_count": 55,
      "metadata": {
        "colab": {
          "base_uri": "https://localhost:8080/"
        },
        "id": "pr2vC4_9trKO",
        "outputId": "8a139b70-4244-46a0-ea35-e156856b332a"
      },
      "outputs": [
        {
          "name": "stdout",
          "output_type": "stream",
          "text": [
            "+------------+---------+------------+----------+----------------+--------------------+------+-------------+----------+\n",
            "|Acceleration|Cylinders|Displacement|Horsepower|Miles_per_Gallon|                Name|Origin|Weight_in_lbs|      Year|\n",
            "+------------+---------+------------+----------+----------------+--------------------+------+-------------+----------+\n",
            "|        17.5|        4|       133.0|       115|            NULL|citroen ds-21 pallas|Europe|         3090|1970-01-01|\n",
            "|        15.0|        4|       113.0|        95|            24.0|toyota corona mar...| Japan|         2372|1970-01-01|\n",
            "|        14.5|        4|        97.0|        88|            27.0|        datsun pl510| Japan|         2130|1970-01-01|\n",
            "+------------+---------+------------+----------+----------------+--------------------+------+-------------+----------+\n",
            "only showing top 3 rows\n",
            "\n",
            "152 == 152\n"
          ]
        }
      ],
      "source": [
        "nonUSCarsDF = carsDF.filter(col(\"Origin\") != \"USA\")\n",
        "nonUSCarsDF2 = carsDF.where(col(\"Origin\") != \"USA\")\n",
        "nonUSCarsDF.show(3)\n",
        "print(f\"{nonUSCarsDF.count()} == {nonUSCarsDF2.count()}\")"
      ]
    },
    {
      "cell_type": "code",
      "execution_count": 56,
      "metadata": {
        "colab": {
          "base_uri": "https://localhost:8080/"
        },
        "id": "Cc58o5B1trKO",
        "outputId": "b39a6005-974a-4a66-d8d7-e1c172f1e8da"
      },
      "outputs": [
        {
          "name": "stdout",
          "output_type": "stream",
          "text": [
            "+------------+---------+------------+----------+----------------+--------------------+------+-------------+----------+\n",
            "|Acceleration|Cylinders|Displacement|Horsepower|Miles_per_Gallon|                Name|Origin|Weight_in_lbs|      Year|\n",
            "+------------+---------+------------+----------+----------------+--------------------+------+-------------+----------+\n",
            "|        12.0|        8|       307.0|       130|            18.0|chevrolet chevell...|   USA|         3504|1970-01-01|\n",
            "|        11.5|        8|       350.0|       165|            15.0|   buick skylark 320|   USA|         3693|1970-01-01|\n",
            "|        11.0|        8|       318.0|       150|            18.0|  plymouth satellite|   USA|         3436|1970-01-01|\n",
            "+------------+---------+------------+----------+----------------+--------------------+------+-------------+----------+\n",
            "only showing top 3 rows\n",
            "\n"
          ]
        }
      ],
      "source": [
        "# filtering with expression strings\n",
        "americanCarsDF = carsDF.filter(\"Origin = 'USA'\")\n",
        "americanCarsDF.show(3)"
      ]
    },
    {
      "cell_type": "markdown",
      "metadata": {
        "id": "YvqWVJKmtrKO"
      },
      "source": [
        "Chain filters"
      ]
    },
    {
      "cell_type": "code",
      "execution_count": 57,
      "metadata": {
        "colab": {
          "base_uri": "https://localhost:8080/"
        },
        "id": "QSYv7uastrKO",
        "outputId": "bc55b455-da26-4319-b1d5-5f1eac184e08"
      },
      "outputs": [
        {
          "name": "stdout",
          "output_type": "stream",
          "text": [
            "+------------+---------+------------+----------+----------------+-----------------+------+-------------+----------+\n",
            "|Acceleration|Cylinders|Displacement|Horsepower|Miles_per_Gallon|             Name|Origin|Weight_in_lbs|      Year|\n",
            "+------------+---------+------------+----------+----------------+-----------------+------+-------------+----------+\n",
            "|        11.5|        8|       350.0|       165|            15.0|buick skylark 320|   USA|         3693|1970-01-01|\n",
            "|        10.0|        8|       429.0|       198|            15.0| ford galaxie 500|   USA|         4341|1970-01-01|\n",
            "|         9.0|        8|       454.0|       220|            14.0| chevrolet impala|   USA|         4354|1970-01-01|\n",
            "+------------+---------+------------+----------+----------------+-----------------+------+-------------+----------+\n",
            "only showing top 3 rows\n",
            "\n"
          ]
        }
      ],
      "source": [
        "americanPowerfulCarsDF = carsDF.filter(col(\"Origin\") == \"USA\").filter(col(\"Horsepower\") > 150)\n",
        "americanPowerfulCarsDF2 = carsDF.filter((col(\"Origin\") == \"USA\") & (col(\"Horsepower\") > 150))\n",
        "americanPowerfulCarsDF3 = carsDF.filter(\"Origin = 'USA' and Horsepower > 150\")\n",
        "americanPowerfulCarsDF.show(3)"
      ]
    },
    {
      "cell_type": "markdown",
      "metadata": {
        "id": "kVhkmxwZtrKP"
      },
      "source": [
        "## Exercises\n",
        "1. Read the movies DF and select 2 columns of your choice\n",
        "2. Create another column summing up the total profit of the movies = US_Gross + Worldwide_Gross + DVD sales. Are you obtaining nulls? How you can solve it?\n",
        "3. Select all COMEDY movies with IMDB rating above 6\n",
        "Use as many versions as possible"
      ]
    },
    {
      "cell_type": "markdown",
      "metadata": {
        "id": "QgpQ09-wtrKP"
      },
      "source": [
        "Exercise 1"
      ]
    },
    {
      "cell_type": "markdown",
      "metadata": {
        "id": "RgtGVWTrtrKQ"
      },
      "source": [
        "Exercise 2"
      ]
    },
    {
      "cell_type": "markdown",
      "metadata": {
        "id": "9j710M_JQYwd"
      },
      "source": [
        "Exercise 3"
      ]
    },
    {
      "cell_type": "code",
      "execution_count": null,
      "metadata": {
        "id": "03-5sRApo571"
      },
      "outputs": [],
      "source": []
    }
  ],
  "metadata": {
    "colab": {
      "collapsed_sections": [
        "LDwREHXhtrKM"
      ],
      "provenance": []
    },
    "kernelspec": {
      "display_name": "Python 3.10.0 64-bit",
      "language": "python",
      "name": "python3"
    },
    "language_info": {
      "codemirror_mode": {
        "name": "ipython",
        "version": 3
      },
      "file_extension": ".py",
      "mimetype": "text/x-python",
      "name": "python",
      "nbconvert_exporter": "python",
      "pygments_lexer": "ipython3",
      "version": "3.10.0"
    },
    "orig_nbformat": 4,
    "vscode": {
      "interpreter": {
        "hash": "ff1af5cda0bea4fe5c4ebc1f94ab9f13d8998f98d08e16d8aba48673b9d00116"
      }
    }
  },
  "nbformat": 4,
  "nbformat_minor": 0
}
