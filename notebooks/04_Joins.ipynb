{
  "cells": [
    {
      "cell_type": "markdown",
      "metadata": {
        "id": "h-3AXSJMxWcj"
      },
      "source": [
        "# Joins"
      ]
    },
    {
      "cell_type": "markdown",
      "metadata": {
        "id": "NqSTh04rxXpg"
      },
      "source": [
        "## Prerrequisites"
      ]
    },
    {
      "cell_type": "markdown",
      "metadata": {
        "id": "alWDpL2TxZt3"
      },
      "source": [
        "Install Spark and Java in VM"
      ]
    },
    {
      "cell_type": "code",
      "execution_count": 13,
      "metadata": {
        "id": "Mpinu0eRxcmO",
        "colab": {
          "base_uri": "https://localhost:8080/"
        },
        "outputId": "256eb290-158d-44de-c63c-ab318cfe5ac0"
      },
      "outputs": [
        {
          "output_type": "stream",
          "name": "stdout",
          "text": [
            "^C\n"
          ]
        }
      ],
      "source": [
        "# install Java8\n",
        "!apt-get install openjdk-8-jdk-headless -qq > /dev/null\n",
        "# download spark 3.5.3\n",
        "!wget -q !wget /q https://dlcdn.apache.org/spark/spark-3.5.3/spark-3.5.3-bin-hadoop3.tgz"
      ]
    },
    {
      "cell_type": "code",
      "execution_count": 2,
      "metadata": {
        "colab": {
          "base_uri": "https://localhost:8080/"
        },
        "id": "Jz43HkUGxg_3",
        "outputId": "b88e0604-0396-4461-c46a-c0a550ff85c6"
      },
      "outputs": [
        {
          "output_type": "stream",
          "name": "stdout",
          "text": [
            "total 391476\n",
            "drwxr-xr-x 1 root root      4096 Nov 25 19:13 \u001b[0m\u001b[01;34msample_data\u001b[0m/\n",
            "-rw-r--r-- 1 root root 400864419 Sep  9 05:35 spark-3.5.3-bin-hadoop3.tgz\n"
          ]
        }
      ],
      "source": [
        "ls -l # check the .tgz is there"
      ]
    },
    {
      "cell_type": "code",
      "execution_count": 3,
      "metadata": {
        "id": "FIMyGT7Axg9G"
      },
      "outputs": [],
      "source": [
        "# unzip it\n",
        "!tar xf spark-3.5.3-bin-hadoop3.tgz"
      ]
    },
    {
      "cell_type": "code",
      "execution_count": 4,
      "metadata": {
        "id": "BdJz2vonxjDe"
      },
      "outputs": [],
      "source": [
        "!pip install -q findspark"
      ]
    },
    {
      "cell_type": "code",
      "execution_count": 5,
      "metadata": {
        "colab": {
          "base_uri": "https://localhost:8080/"
        },
        "id": "vLrv7k6cxqVY",
        "outputId": "9d2f080b-33ea-43cd-8dc6-89b986b67108"
      },
      "outputs": [
        {
          "output_type": "stream",
          "name": "stdout",
          "text": [
            "Requirement already satisfied: py4j in /usr/local/lib/python3.10/dist-packages (0.10.9.7)\n",
            "Requirement already satisfied: folium in /usr/local/lib/python3.10/dist-packages (0.18.0)\n",
            "Requirement already satisfied: branca>=0.6.0 in /usr/local/lib/python3.10/dist-packages (from folium) (0.8.0)\n",
            "Requirement already satisfied: jinja2>=2.9 in /usr/local/lib/python3.10/dist-packages (from folium) (3.1.4)\n",
            "Requirement already satisfied: numpy in /usr/local/lib/python3.10/dist-packages (from folium) (1.26.4)\n",
            "Requirement already satisfied: requests in /usr/local/lib/python3.10/dist-packages (from folium) (2.32.3)\n",
            "Requirement already satisfied: xyzservices in /usr/local/lib/python3.10/dist-packages (from folium) (2024.9.0)\n",
            "Requirement already satisfied: MarkupSafe>=2.0 in /usr/local/lib/python3.10/dist-packages (from jinja2>=2.9->folium) (3.0.2)\n",
            "Requirement already satisfied: charset-normalizer<4,>=2 in /usr/local/lib/python3.10/dist-packages (from requests->folium) (3.4.0)\n",
            "Requirement already satisfied: idna<4,>=2.5 in /usr/local/lib/python3.10/dist-packages (from requests->folium) (3.10)\n",
            "Requirement already satisfied: urllib3<3,>=1.21.1 in /usr/local/lib/python3.10/dist-packages (from requests->folium) (2.2.3)\n",
            "Requirement already satisfied: certifi>=2017.4.17 in /usr/local/lib/python3.10/dist-packages (from requests->folium) (2024.8.30)\n",
            "Requirement already satisfied: plotly in /usr/local/lib/python3.10/dist-packages (5.24.1)\n",
            "Requirement already satisfied: tenacity>=6.2.0 in /usr/local/lib/python3.10/dist-packages (from plotly) (9.0.0)\n",
            "Requirement already satisfied: packaging in /usr/local/lib/python3.10/dist-packages (from plotly) (24.2)\n"
          ]
        }
      ],
      "source": [
        "!pip install py4j\n",
        "\n",
        "# For maps\n",
        "!pip install folium\n",
        "!pip install plotly"
      ]
    },
    {
      "cell_type": "markdown",
      "metadata": {
        "id": "uYSsCnv5xoPq"
      },
      "source": [
        "Define the environment"
      ]
    },
    {
      "cell_type": "code",
      "execution_count": 6,
      "metadata": {
        "id": "ueuKeDHqxorP"
      },
      "outputs": [],
      "source": [
        "import os\n",
        "os.environ[\"JAVA_HOME\"] = \"/usr/lib/jvm/java-8-openjdk-amd64\"\n",
        "os.environ[\"SPARK_HOME\"] = \"/content/spark-3.5.3-bin-hadoop3\"\n",
        "os.environ[\"PYSPARK_SUBMIT_ARGS\"] = \"--master local[*] pyspark-shell\""
      ]
    },
    {
      "cell_type": "markdown",
      "metadata": {
        "id": "77nvOyd1xWck"
      },
      "source": [
        "Start Spark Session\n",
        "\n",
        "---"
      ]
    },
    {
      "cell_type": "code",
      "execution_count": 7,
      "metadata": {
        "colab": {
          "base_uri": "https://localhost:8080/",
          "height": 35
        },
        "id": "u9zEr_35xWck",
        "outputId": "8ae26633-7fbd-4209-b52e-4ade1a4090a2"
      },
      "outputs": [
        {
          "output_type": "execute_result",
          "data": {
            "text/plain": [
              "'3.5.3'"
            ],
            "application/vnd.google.colaboratory.intrinsic+json": {
              "type": "string"
            }
          },
          "metadata": {},
          "execution_count": 7
        }
      ],
      "source": [
        "import findspark\n",
        "findspark.init(\"spark-3.5.3-bin-hadoop3\")# SPARK_HOME\n",
        "\n",
        "from pyspark.sql import SparkSession\n",
        "\n",
        "# create the session\n",
        "spark = SparkSession \\\n",
        "        .builder \\\n",
        "        .appName(\"Joins\") \\\n",
        "        .master(\"local[*]\") \\\n",
        "        .getOrCreate()\n",
        "\n",
        "spark.version"
      ]
    },
    {
      "cell_type": "code",
      "execution_count": 8,
      "metadata": {
        "colab": {
          "base_uri": "https://localhost:8080/",
          "height": 221
        },
        "id": "oS7E2-87xWcl",
        "outputId": "f45919da-d0ba-4417-bef7-b148abbd4e9c"
      },
      "outputs": [
        {
          "output_type": "execute_result",
          "data": {
            "text/plain": [
              "<pyspark.sql.session.SparkSession at 0x7aba7ae12d40>"
            ],
            "text/html": [
              "\n",
              "            <div>\n",
              "                <p><b>SparkSession - in-memory</b></p>\n",
              "                \n",
              "        <div>\n",
              "            <p><b>SparkContext</b></p>\n",
              "\n",
              "            <p><a href=\"http://c6fe5b010d1e:4040\">Spark UI</a></p>\n",
              "\n",
              "            <dl>\n",
              "              <dt>Version</dt>\n",
              "                <dd><code>v3.5.3</code></dd>\n",
              "              <dt>Master</dt>\n",
              "                <dd><code>local[*]</code></dd>\n",
              "              <dt>AppName</dt>\n",
              "                <dd><code>Joins</code></dd>\n",
              "            </dl>\n",
              "        </div>\n",
              "        \n",
              "            </div>\n",
              "        "
            ]
          },
          "metadata": {},
          "execution_count": 8
        }
      ],
      "source": [
        "spark"
      ]
    },
    {
      "cell_type": "code",
      "execution_count": 9,
      "metadata": {
        "id": "75QZiN7GxWcl"
      },
      "outputs": [],
      "source": [
        "# Import sql functions\n",
        "from pyspark.sql.functions import *"
      ]
    },
    {
      "cell_type": "markdown",
      "metadata": {
        "id": "4Cx-_TA5xxVw"
      },
      "source": [
        "Download datasets"
      ]
    },
    {
      "cell_type": "code",
      "execution_count": 10,
      "metadata": {
        "id": "IFP9OP4fxzGw",
        "colab": {
          "base_uri": "https://localhost:8080/"
        },
        "outputId": "34f6f1d4-0e15-48c6-d0d4-486358f0623c"
      },
      "outputs": [
        {
          "output_type": "stream",
          "name": "stdout",
          "text": [
            "bands.json\t  employees.csv       guitars.json  titles.csv\n",
            "deptmanagers.csv  guitarPlayers.json  salaries.csv\n"
          ]
        }
      ],
      "source": [
        "!mkdir -p dataset\n",
        "!wget -q https://raw.githubusercontent.com/paponsro/spark_edem_2324/master/dataset/guitars.json -P /dataset\n",
        "!wget -q https://raw.githubusercontent.com/paponsro/spark_edem_2324/master/dataset/guitarPlayers.json -P /dataset\n",
        "!wget -q https://raw.githubusercontent.com/paponsro/spark_edem_2324/master/dataset/bands.json -P /dataset\n",
        "!wget -q https://raw.githubusercontent.com/paponsro/spark_edem_2324/master/dataset/employees.csv -P /dataset\n",
        "!wget -q https://raw.githubusercontent.com/paponsro/spark_edem_2324/master/dataset/salaries.csv -P /dataset\n",
        "!wget -q https://raw.githubusercontent.com/paponsro/spark_edem_2324/master/dataset/deptmanagers.csv -P /dataset\n",
        "!wget -q https://raw.githubusercontent.com/paponsro/spark_edem_2324/master/dataset/titles.csv -P /dataset\n",
        "!ls /dataset"
      ]
    },
    {
      "cell_type": "markdown",
      "metadata": {
        "id": "CPNyqoE8xWcm"
      },
      "source": [
        "Read JSONs"
      ]
    },
    {
      "cell_type": "code",
      "execution_count": 11,
      "metadata": {
        "id": "k9_4mNbqxWcm"
      },
      "outputs": [],
      "source": [
        "guitarsDF = spark.read \\\n",
        "    .option(\"inferSchema\", \"true\") \\\n",
        "    .json(\"/dataset/guitars.json\")\n",
        "\n",
        "guitaristsDF = spark.read \\\n",
        "    .option(\"inferSchema\", \"true\") \\\n",
        "    .json(\"/dataset/guitarPlayers.json\")\n",
        "\n",
        "bandsDF = spark.read \\\n",
        "    .option(\"inferSchema\", \"true\") \\\n",
        "    .json(\"/dataset/bands.json\")"
      ]
    },
    {
      "cell_type": "code",
      "execution_count": 12,
      "metadata": {
        "colab": {
          "base_uri": "https://localhost:8080/"
        },
        "id": "Aww2pe7sxWcm",
        "outputId": "af407da5-d6dc-4232-d5f9-3cb26e3dccf6"
      },
      "outputs": [
        {
          "output_type": "stream",
          "name": "stdout",
          "text": [
            "+--------------------+---+------+------------+\n",
            "|          guitarType| id|  make|       model|\n",
            "+--------------------+---+------+------------+\n",
            "|Electric double-n...|  0|Gibson|    EDS-1275|\n",
            "|            Electric|  5|Fender|Stratocaster|\n",
            "|            Electric|  1|Gibson|          SG|\n",
            "+--------------------+---+------+------------+\n",
            "only showing top 3 rows\n",
            "\n",
            "+----+-------+---+------------+\n",
            "|band|guitars| id|        name|\n",
            "+----+-------+---+------------+\n",
            "|   0|    [0]|  0|  Jimmy Page|\n",
            "|   1|    [1]|  1| Angus Young|\n",
            "|   2| [1, 5]|  2|Eric Clapton|\n",
            "+----+-------+---+------------+\n",
            "only showing top 3 rows\n",
            "\n",
            "+-----------+---+------------+----+\n",
            "|   hometown| id|        name|year|\n",
            "+-----------+---+------------+----+\n",
            "|     Sydney|  1|       AC/DC|1973|\n",
            "|     London|  0|Led Zeppelin|1968|\n",
            "|Los Angeles|  3|   Metallica|1981|\n",
            "+-----------+---+------------+----+\n",
            "only showing top 3 rows\n",
            "\n"
          ]
        }
      ],
      "source": [
        "guitarsDF.show(3)\n",
        "guitaristsDF.show(3)\n",
        "bandsDF.show(3)\n"
      ]
    },
    {
      "cell_type": "markdown",
      "metadata": {
        "id": "opA3NFOfxWcm"
      },
      "source": [
        "## Examples"
      ]
    },
    {
      "cell_type": "markdown",
      "metadata": {
        "id": "GmN9q_ltxWcm"
      },
      "source": [
        "Inner Join =  everything from BOTH DFs for which there is a row in the right DF satisfying the condition\n"
      ]
    },
    {
      "cell_type": "code",
      "execution_count": 14,
      "metadata": {
        "colab": {
          "base_uri": "https://localhost:8080/"
        },
        "id": "voyAapmexWcm",
        "outputId": "fff0c752-d184-4c5f-841f-f298bc8d872c"
      },
      "outputs": [
        {
          "output_type": "stream",
          "name": "stdout",
          "text": [
            "+----+-------+---+------------+-----------+---+------------+----+\n",
            "|band|guitars| id|        name|   hometown| id|        name|year|\n",
            "+----+-------+---+------------+-----------+---+------------+----+\n",
            "|   1|    [1]|  1| Angus Young|     Sydney|  1|       AC/DC|1973|\n",
            "|   0|    [0]|  0|  Jimmy Page|     London|  0|Led Zeppelin|1968|\n",
            "|   3|    [3]|  3|Kirk Hammett|Los Angeles|  3|   Metallica|1981|\n",
            "+----+-------+---+------------+-----------+---+------------+----+\n",
            "\n"
          ]
        }
      ],
      "source": [
        "joinCondition = guitaristsDF.band == bandsDF.id\n",
        "guitaristsBandsDF = guitaristsDF.join(bandsDF, joinCondition, \"inner\")\n",
        "guitaristsBandsDF.show(3)"
      ]
    },
    {
      "cell_type": "code",
      "execution_count": null,
      "metadata": {
        "id": "Ce_yS-kVxWcn"
      },
      "outputs": [],
      "source": [
        "# things to bear in mind\n",
        "# guitaristsBandsDF.select(\"id\", \"band\").show(3) # will crash because there are two columns named \"id\""
      ]
    },
    {
      "cell_type": "code",
      "execution_count": 15,
      "metadata": {
        "colab": {
          "base_uri": "https://localhost:8080/"
        },
        "id": "ZD_tC8GKxWcn",
        "outputId": "d0230bac-71b2-49f2-d722-aca6f0f41dcf"
      },
      "outputs": [
        {
          "output_type": "stream",
          "name": "stdout",
          "text": [
            "+----+-------+---+------------+-----------+------+------------+----+\n",
            "|band|guitars| id|        name|   hometown|bandId|    bandName|year|\n",
            "+----+-------+---+------------+-----------+------+------------+----+\n",
            "|   1|    [1]|  1| Angus Young|     Sydney|     1|       AC/DC|1973|\n",
            "|   0|    [0]|  0|  Jimmy Page|     London|     0|Led Zeppelin|1968|\n",
            "|   3|    [3]|  3|Kirk Hammett|Los Angeles|     3|   Metallica|1981|\n",
            "+----+-------+---+------------+-----------+------+------------+----+\n",
            "\n"
          ]
        }
      ],
      "source": [
        "# you can rename the column\n",
        "bandsDFMod = bandsDF.withColumnRenamed(\"id\", \"bandId\") \\\n",
        "    .withColumnRenamed(\"name\", \"bandName\")\n",
        "guitaristsBandsDF2 = guitaristsDF.join(bandsDFMod,\n",
        "    guitaristsDF.band == bandsDFMod.bandId, \"inner\").orderBy(\"name\")\n",
        "guitaristsBandsDF2.show(3)\n",
        "\n",
        "# there are other options but it is the best practice if it is possible"
      ]
    },
    {
      "cell_type": "markdown",
      "metadata": {
        "id": "WyFeqM1yxWcn"
      },
      "source": [
        "Left Outer = everything in the inner join + all the rows in the LEFT DF, with nulls in where the data is missing"
      ]
    },
    {
      "cell_type": "code",
      "execution_count": 16,
      "metadata": {
        "colab": {
          "base_uri": "https://localhost:8080/"
        },
        "id": "wRt01JY-xWcn",
        "outputId": "91f5d36b-c515-4178-c698-913ad6846d0f"
      },
      "outputs": [
        {
          "output_type": "stream",
          "name": "stdout",
          "text": [
            "+----+-------+---+------------+--------+------+------------+----+\n",
            "|band|guitars| id|        name|hometown|bandId|    bandName|year|\n",
            "+----+-------+---+------------+--------+------+------------+----+\n",
            "|   1|    [1]|  1| Angus Young|  Sydney|     1|       AC/DC|1973|\n",
            "|   2| [1, 5]|  2|Eric Clapton|    NULL|  NULL|        NULL|NULL|\n",
            "|   0|    [0]|  0|  Jimmy Page|  London|     0|Led Zeppelin|1968|\n",
            "+----+-------+---+------------+--------+------+------------+----+\n",
            "only showing top 3 rows\n",
            "\n"
          ]
        }
      ],
      "source": [
        "joinCondition2 = guitaristsDF.band == bandsDFMod.bandId\n",
        "guitaristsDF.join(bandsDFMod, joinCondition2, \"left_outer\").orderBy(\"name\").show(3)\n",
        "# see nulls on Eric Calpton"
      ]
    },
    {
      "cell_type": "markdown",
      "metadata": {
        "id": "jx7loGmOxWcn"
      },
      "source": [
        "  Right Outer = everything in the inner join + all the rows in the RIGHT DF, with nulls in where the data is missing\n"
      ]
    },
    {
      "cell_type": "code",
      "execution_count": 17,
      "metadata": {
        "colab": {
          "base_uri": "https://localhost:8080/"
        },
        "id": "H0t5qxmDxWcn",
        "outputId": "8dd76205-b61b-4e99-8cd2-ec51dc1c7e77"
      },
      "outputs": [
        {
          "output_type": "stream",
          "name": "stdout",
          "text": [
            "+----+-------+----+-----------+---------+------+------------+----+\n",
            "|band|guitars|  id|       name| hometown|bandId|    bandName|year|\n",
            "+----+-------+----+-----------+---------+------+------------+----+\n",
            "|NULL|   NULL|NULL|       NULL|Liverpool|     4| The Beatles|1960|\n",
            "|   1|    [1]|   1|Angus Young|   Sydney|     1|       AC/DC|1973|\n",
            "|   0|    [0]|   0| Jimmy Page|   London|     0|Led Zeppelin|1968|\n",
            "+----+-------+----+-----------+---------+------+------------+----+\n",
            "only showing top 3 rows\n",
            "\n"
          ]
        }
      ],
      "source": [
        "guitaristsDF.join(bandsDFMod, joinCondition2, \"right_outer\").orderBy(\"name\").show(3)\n",
        "# see nulls for The Beatles"
      ]
    },
    {
      "cell_type": "markdown",
      "metadata": {
        "id": "-YP3UfTaxWco"
      },
      "source": [
        " Outer Join = everything in the inner join + all the rows in BOTH DFs, with nulls in where the data is missing\n"
      ]
    },
    {
      "cell_type": "code",
      "execution_count": 18,
      "metadata": {
        "colab": {
          "base_uri": "https://localhost:8080/"
        },
        "id": "08o47mejxWco",
        "outputId": "967059bb-1d21-4523-ba29-4f831d7cedb4"
      },
      "outputs": [
        {
          "output_type": "stream",
          "name": "stdout",
          "text": [
            "+----+-------+----+------------+---------+------+-----------+----+\n",
            "|band|guitars|  id|        name| hometown|bandId|   bandName|year|\n",
            "+----+-------+----+------------+---------+------+-----------+----+\n",
            "|NULL|   NULL|NULL|        NULL|Liverpool|     4|The Beatles|1960|\n",
            "|   1|    [1]|   1| Angus Young|   Sydney|     1|      AC/DC|1973|\n",
            "|   2| [1, 5]|   2|Eric Clapton|     NULL|  NULL|       NULL|NULL|\n",
            "+----+-------+----+------------+---------+------+-----------+----+\n",
            "only showing top 3 rows\n",
            "\n"
          ]
        }
      ],
      "source": [
        "guitaristsDF.join(bandsDFMod, joinCondition2, \"outer\").orderBy(\"name\").show(3)\n",
        "# see nulls for The Beatles and Eric Clapton"
      ]
    },
    {
      "cell_type": "markdown",
      "metadata": {
        "id": "tMlhMqhExWco"
      },
      "source": [
        "  Semi-joins = everything in the LEFT DF for which there is a row in the right DF satisfying the condition\n"
      ]
    },
    {
      "cell_type": "code",
      "execution_count": 19,
      "metadata": {
        "colab": {
          "base_uri": "https://localhost:8080/"
        },
        "id": "XwLKWOASxWco",
        "outputId": "f2a75cba-bda9-423c-d38e-4a30903b67b2"
      },
      "outputs": [
        {
          "output_type": "stream",
          "name": "stdout",
          "text": [
            "+----+-------+---+------------+\n",
            "|band|guitars| id|        name|\n",
            "+----+-------+---+------------+\n",
            "|   1|    [1]|  1| Angus Young|\n",
            "|   0|    [0]|  0|  Jimmy Page|\n",
            "|   3|    [3]|  3|Kirk Hammett|\n",
            "+----+-------+---+------------+\n",
            "\n"
          ]
        }
      ],
      "source": [
        "guitaristsDF.join(bandsDFMod, joinCondition2, \"left_semi\").orderBy(\"name\").show(3)\n"
      ]
    },
    {
      "cell_type": "markdown",
      "metadata": {
        "id": "aiNQKxV5xWco"
      },
      "source": [
        "Anti-joins = everything in the LEFT DF for which there is NO row in the right DF satisfying the condition\n"
      ]
    },
    {
      "cell_type": "code",
      "execution_count": 20,
      "metadata": {
        "colab": {
          "base_uri": "https://localhost:8080/"
        },
        "id": "9jYq8v1exWco",
        "outputId": "9c49a492-8d53-41ce-d2f5-e9e6878fb6ab"
      },
      "outputs": [
        {
          "output_type": "stream",
          "name": "stdout",
          "text": [
            "+----+-------+---+------------+\n",
            "|band|guitars| id|        name|\n",
            "+----+-------+---+------------+\n",
            "|   2| [1, 5]|  2|Eric Clapton|\n",
            "+----+-------+---+------------+\n",
            "\n"
          ]
        }
      ],
      "source": [
        "guitaristsDF.join(bandsDFMod, joinCondition2, \"anti\").orderBy(\"name\").show(3)"
      ]
    },
    {
      "cell_type": "markdown",
      "metadata": {
        "id": "J0Gz1XFuxWcp"
      },
      "source": [
        "Cross-join = takes every instance in the LEFT DF and create a new one for every intance in the right DF (not very common)"
      ]
    },
    {
      "cell_type": "code",
      "execution_count": 21,
      "metadata": {
        "colab": {
          "base_uri": "https://localhost:8080/"
        },
        "id": "wfrjSgZlxWcp",
        "outputId": "975f0f34-05b0-417f-af1f-9452d1d0cfda"
      },
      "outputs": [
        {
          "output_type": "stream",
          "name": "stdout",
          "text": [
            "+----+-------+---+------------+-----------+------+------------+----+\n",
            "|band|guitars| id|        name|   hometown|bandId|    bandName|year|\n",
            "+----+-------+---+------------+-----------+------+------------+----+\n",
            "|   0|    [0]|  0|  Jimmy Page|     Sydney|     1|       AC/DC|1973|\n",
            "|   1|    [1]|  1| Angus Young|     Sydney|     1|       AC/DC|1973|\n",
            "|   2| [1, 5]|  2|Eric Clapton|     Sydney|     1|       AC/DC|1973|\n",
            "|   3|    [3]|  3|Kirk Hammett|     Sydney|     1|       AC/DC|1973|\n",
            "|   0|    [0]|  0|  Jimmy Page|     London|     0|Led Zeppelin|1968|\n",
            "|   1|    [1]|  1| Angus Young|     London|     0|Led Zeppelin|1968|\n",
            "|   2| [1, 5]|  2|Eric Clapton|     London|     0|Led Zeppelin|1968|\n",
            "|   3|    [3]|  3|Kirk Hammett|     London|     0|Led Zeppelin|1968|\n",
            "|   0|    [0]|  0|  Jimmy Page|Los Angeles|     3|   Metallica|1981|\n",
            "|   1|    [1]|  1| Angus Young|Los Angeles|     3|   Metallica|1981|\n",
            "|   2| [1, 5]|  2|Eric Clapton|Los Angeles|     3|   Metallica|1981|\n",
            "|   3|    [3]|  3|Kirk Hammett|Los Angeles|     3|   Metallica|1981|\n",
            "|   0|    [0]|  0|  Jimmy Page|  Liverpool|     4| The Beatles|1960|\n",
            "|   1|    [1]|  1| Angus Young|  Liverpool|     4| The Beatles|1960|\n",
            "|   2| [1, 5]|  2|Eric Clapton|  Liverpool|     4| The Beatles|1960|\n",
            "|   3|    [3]|  3|Kirk Hammett|  Liverpool|     4| The Beatles|1960|\n",
            "+----+-------+---+------------+-----------+------+------------+----+\n",
            "\n"
          ]
        }
      ],
      "source": [
        "guitaristsDF.crossJoin(bandsDFMod).show(20)"
      ]
    },
    {
      "cell_type": "markdown",
      "metadata": {
        "id": "h85qdkxcxWcp"
      },
      "source": [
        "*Union Join is just an Union (note it only works if both DFs have the same schema)"
      ]
    },
    {
      "cell_type": "markdown",
      "metadata": {
        "id": "SB3QfnzsxWcp"
      },
      "source": [
        "## Exercises\n",
        "1. Read employees.csv, deptmanagers.csv, salaries.csv and titles.csv to a DFs.\n",
        "2. Show all employees and their max salary (there can be different salaries registered for the same employee)\n",
        "3. Show all employees who were never managers. Check it by getting all the managers and checking that they are not in the table\n",
        "4. Find the job titles of the best paid 10 employees in the company (note that there can be different titles registered for the same employee)"
      ]
    },
    {
      "cell_type": "markdown",
      "metadata": {
        "id": "QqKb-sgFxWcp"
      },
      "source": [
        "Exercise 1"
      ]
    },
    {
      "cell_type": "markdown",
      "metadata": {
        "id": "PYtLrSQ2xWcq"
      },
      "source": [
        "Exercise 2"
      ]
    },
    {
      "cell_type": "markdown",
      "metadata": {
        "id": "RntnapY5xWcq"
      },
      "source": [
        "Exercise 3"
      ]
    },
    {
      "cell_type": "markdown",
      "metadata": {
        "id": "LSokNABIxWcr"
      },
      "source": [
        "Exercise 4"
      ]
    }
  ],
  "metadata": {
    "colab": {
      "collapsed_sections": [
        "opA3NFOfxWcm",
        "SB3QfnzsxWcp"
      ],
      "provenance": []
    },
    "kernelspec": {
      "display_name": "Python 3.10.0 64-bit",
      "language": "python",
      "name": "python3"
    },
    "language_info": {
      "codemirror_mode": {
        "name": "ipython",
        "version": 3
      },
      "file_extension": ".py",
      "mimetype": "text/x-python",
      "name": "python",
      "nbconvert_exporter": "python",
      "pygments_lexer": "ipython3",
      "version": "3.10.0"
    },
    "orig_nbformat": 4,
    "vscode": {
      "interpreter": {
        "hash": "ff1af5cda0bea4fe5c4ebc1f94ab9f13d8998f98d08e16d8aba48673b9d00116"
      }
    }
  },
  "nbformat": 4,
  "nbformat_minor": 0
}