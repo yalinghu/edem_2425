{
  "cells": [
    {
      "cell_type": "markdown",
      "metadata": {
        "id": "s4YqddS_vlYH"
      },
      "source": [
        "# Aggregations and Grouping"
      ]
    },
    {
      "cell_type": "markdown",
      "metadata": {
        "id": "WwNMmP6GvoDQ"
      },
      "source": [
        "## Prerrequisites"
      ]
    },
    {
      "cell_type": "markdown",
      "metadata": {
        "id": "HvezyELEvqZH"
      },
      "source": [
        "Install Spark and Java in VM"
      ]
    },
    {
      "cell_type": "code",
      "execution_count": 1,
      "metadata": {
        "id": "7b0-USnDvst_"
      },
      "outputs": [],
      "source": [
        "# install Java8\n",
        "!apt-get install openjdk-8-jdk-headless -qq > /dev/null\n",
        "# download spark 3.5.3\n",
        "!wget -q !wget /q https://dlcdn.apache.org/spark/spark-3.5.3/spark-3.5.3-bin-hadoop3.tgz"
      ]
    },
    {
      "cell_type": "code",
      "execution_count": 2,
      "metadata": {
        "colab": {
          "base_uri": "https://localhost:8080/"
        },
        "id": "RnfbBxRivvWX",
        "outputId": "60052aec-c0d3-4b65-ff3a-14ca7415492c"
      },
      "outputs": [
        {
          "output_type": "stream",
          "name": "stdout",
          "text": [
            "total 391476\n",
            "drwxr-xr-x 1 root root      4096 Nov 22 14:23 \u001b[0m\u001b[01;34msample_data\u001b[0m/\n",
            "-rw-r--r-- 1 root root 400864419 Sep  9 05:35 spark-3.5.3-bin-hadoop3.tgz\n"
          ]
        }
      ],
      "source": [
        "ls -l # check the .tgz is there"
      ]
    },
    {
      "cell_type": "code",
      "execution_count": 3,
      "metadata": {
        "id": "IhVzl2vbvxhY"
      },
      "outputs": [],
      "source": [
        "# unzip it\n",
        "!tar xf spark-3.5.3-bin-hadoop3.tgz"
      ]
    },
    {
      "cell_type": "code",
      "execution_count": 4,
      "metadata": {
        "id": "8JuU0Aylvxeo"
      },
      "outputs": [],
      "source": [
        "!pip install -q findspark"
      ]
    },
    {
      "cell_type": "code",
      "execution_count": 5,
      "metadata": {
        "colab": {
          "base_uri": "https://localhost:8080/"
        },
        "id": "0hvlB3OlvzxX",
        "outputId": "24f58af5-e445-4d19-de74-90e0fcaca63b"
      },
      "outputs": [
        {
          "output_type": "stream",
          "name": "stdout",
          "text": [
            "Requirement already satisfied: py4j in /usr/local/lib/python3.10/dist-packages (0.10.9.7)\n",
            "Requirement already satisfied: folium in /usr/local/lib/python3.10/dist-packages (0.18.0)\n",
            "Requirement already satisfied: branca>=0.6.0 in /usr/local/lib/python3.10/dist-packages (from folium) (0.8.0)\n",
            "Requirement already satisfied: jinja2>=2.9 in /usr/local/lib/python3.10/dist-packages (from folium) (3.1.4)\n",
            "Requirement already satisfied: numpy in /usr/local/lib/python3.10/dist-packages (from folium) (1.26.4)\n",
            "Requirement already satisfied: requests in /usr/local/lib/python3.10/dist-packages (from folium) (2.32.3)\n",
            "Requirement already satisfied: xyzservices in /usr/local/lib/python3.10/dist-packages (from folium) (2024.9.0)\n",
            "Requirement already satisfied: MarkupSafe>=2.0 in /usr/local/lib/python3.10/dist-packages (from jinja2>=2.9->folium) (3.0.2)\n",
            "Requirement already satisfied: charset-normalizer<4,>=2 in /usr/local/lib/python3.10/dist-packages (from requests->folium) (3.4.0)\n",
            "Requirement already satisfied: idna<4,>=2.5 in /usr/local/lib/python3.10/dist-packages (from requests->folium) (3.10)\n",
            "Requirement already satisfied: urllib3<3,>=1.21.1 in /usr/local/lib/python3.10/dist-packages (from requests->folium) (2.2.3)\n",
            "Requirement already satisfied: certifi>=2017.4.17 in /usr/local/lib/python3.10/dist-packages (from requests->folium) (2024.8.30)\n",
            "Requirement already satisfied: plotly in /usr/local/lib/python3.10/dist-packages (5.24.1)\n",
            "Requirement already satisfied: tenacity>=6.2.0 in /usr/local/lib/python3.10/dist-packages (from plotly) (9.0.0)\n",
            "Requirement already satisfied: packaging in /usr/local/lib/python3.10/dist-packages (from plotly) (24.2)\n"
          ]
        }
      ],
      "source": [
        "!pip install py4j\n",
        "\n",
        "# For maps\n",
        "!pip install folium\n",
        "!pip install plotly"
      ]
    },
    {
      "cell_type": "markdown",
      "metadata": {
        "id": "O0C9EzZbv4x4"
      },
      "source": [
        "Define the environment"
      ]
    },
    {
      "cell_type": "code",
      "execution_count": 6,
      "metadata": {
        "id": "Rf4ibNTdv7fv"
      },
      "outputs": [],
      "source": [
        "import os\n",
        "os.environ[\"JAVA_HOME\"] = \"/usr/lib/jvm/java-8-openjdk-amd64\"\n",
        "os.environ[\"SPARK_HOME\"] = \"/content/spark-3.5.3-bin-hadoop3\"\n",
        "os.environ[\"PYSPARK_SUBMIT_ARGS\"] = \"--master local[*] pyspark-shell\""
      ]
    },
    {
      "cell_type": "markdown",
      "metadata": {
        "id": "K90Ld_NkvlYI"
      },
      "source": [
        "Start Spark Session\n",
        "\n",
        "---"
      ]
    },
    {
      "cell_type": "code",
      "execution_count": 7,
      "metadata": {
        "colab": {
          "base_uri": "https://localhost:8080/",
          "height": 35
        },
        "id": "2Fg_PLR_vlYI",
        "outputId": "302507e5-ee85-4dc5-f279-d09f9a983d6c"
      },
      "outputs": [
        {
          "output_type": "execute_result",
          "data": {
            "text/plain": [
              "'3.5.3'"
            ],
            "application/vnd.google.colaboratory.intrinsic+json": {
              "type": "string"
            }
          },
          "metadata": {},
          "execution_count": 7
        }
      ],
      "source": [
        "import findspark\n",
        "findspark.init(\"spark-3.5.3-bin-hadoop3\")# SPARK_HOME\n",
        "\n",
        "from pyspark.sql import SparkSession\n",
        "\n",
        "# create the session\n",
        "spark = SparkSession \\\n",
        "        .builder \\\n",
        "        .appName(\"Aggregations and Grouping\") \\\n",
        "        .master(\"local[*]\") \\\n",
        "        .getOrCreate()\n",
        "\n",
        "spark.version"
      ]
    },
    {
      "cell_type": "code",
      "execution_count": 8,
      "metadata": {
        "colab": {
          "base_uri": "https://localhost:8080/",
          "height": 221
        },
        "id": "RnamkNcgvlYJ",
        "outputId": "17381bac-c507-4ab4-b14e-4f929e0fa9a0"
      },
      "outputs": [
        {
          "output_type": "execute_result",
          "data": {
            "text/plain": [
              "<pyspark.sql.session.SparkSession at 0x7d6d9877d390>"
            ],
            "text/html": [
              "\n",
              "            <div>\n",
              "                <p><b>SparkSession - in-memory</b></p>\n",
              "                \n",
              "        <div>\n",
              "            <p><b>SparkContext</b></p>\n",
              "\n",
              "            <p><a href=\"http://082052c01aab:4040\">Spark UI</a></p>\n",
              "\n",
              "            <dl>\n",
              "              <dt>Version</dt>\n",
              "                <dd><code>v3.5.3</code></dd>\n",
              "              <dt>Master</dt>\n",
              "                <dd><code>local[*]</code></dd>\n",
              "              <dt>AppName</dt>\n",
              "                <dd><code>Aggregations and Grouping</code></dd>\n",
              "            </dl>\n",
              "        </div>\n",
              "        \n",
              "            </div>\n",
              "        "
            ]
          },
          "metadata": {},
          "execution_count": 8
        }
      ],
      "source": [
        "spark"
      ]
    },
    {
      "cell_type": "code",
      "execution_count": 9,
      "metadata": {
        "id": "9AGniM-7vlYK"
      },
      "outputs": [],
      "source": [
        "# For Pandas conversion optimization\n",
        "spark.conf.set(\"spark.sql.execution.arrow.enabled\", \"true\")"
      ]
    },
    {
      "cell_type": "code",
      "execution_count": 10,
      "metadata": {
        "id": "e0DXUK1fvlYK"
      },
      "outputs": [],
      "source": [
        "# Import sql functions\n",
        "from pyspark.sql.functions import *"
      ]
    },
    {
      "cell_type": "markdown",
      "metadata": {
        "id": "1mCPp9fQwEif"
      },
      "source": [
        "Download datasets"
      ]
    },
    {
      "cell_type": "code",
      "execution_count": 11,
      "metadata": {
        "id": "5xTARwq9wLgH",
        "colab": {
          "base_uri": "https://localhost:8080/"
        },
        "outputId": "7218a811-c01f-41a8-a871-19badd1f4121"
      },
      "outputs": [
        {
          "output_type": "stream",
          "name": "stdout",
          "text": [
            "characters.csv\tmovies.json  vehicles.csv\n"
          ]
        }
      ],
      "source": [
        "!mkdir -p dataset\n",
        "!wget -q https://raw.githubusercontent.com/paponsro/spark_edem_2324/master/dataset/movies.json -P /dataset\n",
        "!wget -q https://github.com/masfworld/datahack_docker/raw/master/zeppelin/data/vehicles.csv -P /dataset\n",
        "!wget -q https://github.com/masfworld/datahack_docker/raw/master/zeppelin/data/characters.csv -P /dataset\n",
        "!ls /dataset"
      ]
    },
    {
      "cell_type": "markdown",
      "metadata": {
        "id": "yD4q57C_vlYK"
      },
      "source": [
        "Read JSON file\n",
        "\n",
        "---"
      ]
    },
    {
      "cell_type": "code",
      "execution_count": 12,
      "metadata": {
        "id": "dZWORhHKvlYK"
      },
      "outputs": [],
      "source": [
        "moviesDF = spark.read \\\n",
        "    .option(\"inferSchema\", True) \\\n",
        "    .json(\"/dataset/movies.json\")"
      ]
    },
    {
      "cell_type": "code",
      "execution_count": 13,
      "metadata": {
        "colab": {
          "base_uri": "https://localhost:8080/"
        },
        "id": "4h2S0ponvlYK",
        "outputId": "19cd360d-44ea-4c7f-c738-93c3f69124f9"
      },
      "outputs": [
        {
          "output_type": "stream",
          "name": "stdout",
          "text": [
            "+-------------+--------+-----------+-----------+----------+-----------+-----------+-----------------+------------+----------------------+----------------+------+----------------------+------------+--------+---------------+\n",
            "|Creative_Type|Director|Distributor|IMDB_Rating|IMDB_Votes|MPAA_Rating|Major_Genre|Production_Budget|Release_Date|Rotten_Tomatoes_Rating|Running_Time_min|Source|Title                 |US_DVD_Sales|US_Gross|Worldwide_Gross|\n",
            "+-------------+--------+-----------+-----------+----------+-----------+-----------+-----------------+------------+----------------------+----------------+------+----------------------+------------+--------+---------------+\n",
            "|NULL         |NULL    |Gramercy   |6.1        |1071      |R          |NULL       |8000000          |12-Jun-98   |NULL                  |NULL            |NULL  |The Land Girls        |NULL        |146083  |146083         |\n",
            "|NULL         |NULL    |Strand     |6.9        |207       |R          |Drama      |300000           |7-Aug-98    |NULL                  |NULL            |NULL  |First Love, Last Rites|NULL        |10876   |10876          |\n",
            "+-------------+--------+-----------+-----------+----------+-----------+-----------+-----------------+------------+----------------------+----------------+------+----------------------+------------+--------+---------------+\n",
            "only showing top 2 rows\n",
            "\n",
            "[StructField('Creative_Type', StringType(), True), StructField('Director', StringType(), True), StructField('Distributor', StringType(), True), StructField('IMDB_Rating', DoubleType(), True), StructField('IMDB_Votes', LongType(), True), StructField('MPAA_Rating', StringType(), True), StructField('Major_Genre', StringType(), True), StructField('Production_Budget', LongType(), True), StructField('Release_Date', StringType(), True), StructField('Rotten_Tomatoes_Rating', LongType(), True), StructField('Running_Time_min', LongType(), True), StructField('Source', StringType(), True), StructField('Title', StringType(), True), StructField('US_DVD_Sales', LongType(), True), StructField('US_Gross', LongType(), True), StructField('Worldwide_Gross', LongType(), True)]\n"
          ]
        },
        {
          "output_type": "execute_result",
          "data": {
            "text/plain": [
              "['Creative_Type',\n",
              " 'Director',\n",
              " 'Distributor',\n",
              " 'IMDB_Rating',\n",
              " 'IMDB_Votes',\n",
              " 'MPAA_Rating',\n",
              " 'Major_Genre',\n",
              " 'Production_Budget',\n",
              " 'Release_Date',\n",
              " 'Rotten_Tomatoes_Rating',\n",
              " 'Running_Time_min',\n",
              " 'Source',\n",
              " 'Title',\n",
              " 'US_DVD_Sales',\n",
              " 'US_Gross',\n",
              " 'Worldwide_Gross']"
            ]
          },
          "metadata": {},
          "execution_count": 13
        }
      ],
      "source": [
        "moviesDF.show(2, False)\n",
        "print(moviesDF.schema.fields)\n",
        "moviesDF.columns"
      ]
    },
    {
      "cell_type": "markdown",
      "metadata": {
        "id": "M7Ab75vzvlYK"
      },
      "source": [
        "## Examples"
      ]
    },
    {
      "cell_type": "markdown",
      "metadata": {
        "id": "3L-vJzo5vlYK"
      },
      "source": [
        "Count"
      ]
    },
    {
      "cell_type": "code",
      "execution_count": 14,
      "metadata": {
        "colab": {
          "base_uri": "https://localhost:8080/"
        },
        "id": "eWoq50okvlYL",
        "outputId": "3ef79c92-74bc-450d-c185-0f20476cddf0"
      },
      "outputs": [
        {
          "output_type": "execute_result",
          "data": {
            "text/plain": [
              "3201"
            ]
          },
          "metadata": {},
          "execution_count": 14
        }
      ],
      "source": [
        "# df rows counting, including NULLS\n",
        "moviesDF.count()"
      ]
    },
    {
      "cell_type": "code",
      "execution_count": 15,
      "metadata": {
        "colab": {
          "base_uri": "https://localhost:8080/"
        },
        "id": "JwFlAfygvlYL",
        "outputId": "281b6d63-22c8-47b1-928f-a6918fa11291"
      },
      "outputs": [
        {
          "output_type": "stream",
          "name": "stdout",
          "text": [
            "+------------------+\n",
            "|count(Major_Genre)|\n",
            "+------------------+\n",
            "|              2926|\n",
            "+------------------+\n",
            "\n"
          ]
        }
      ],
      "source": [
        "# using sql functions, NOT including NULLS\n",
        "genresCountDF = moviesDF.select(count(col(\"Major_Genre\")))\n",
        "genresCountDF.show()"
      ]
    },
    {
      "cell_type": "code",
      "execution_count": 16,
      "metadata": {
        "colab": {
          "base_uri": "https://localhost:8080/"
        },
        "id": "XOnzyw5pvlYL",
        "outputId": "356854cd-cea0-4896-e538-4f35868e4c2c"
      },
      "outputs": [
        {
          "output_type": "stream",
          "name": "stdout",
          "text": [
            "+---------------+\n",
            "|count(Director)|\n",
            "+---------------+\n",
            "|           1870|\n",
            "+---------------+\n",
            "\n"
          ]
        }
      ],
      "source": [
        "directorsCountDF = moviesDF.select(count(moviesDF.Director))\n",
        "directorsCountDF.show()"
      ]
    },
    {
      "cell_type": "code",
      "execution_count": 17,
      "metadata": {
        "colab": {
          "base_uri": "https://localhost:8080/"
        },
        "id": "I6zWJ2x8vlYL",
        "outputId": "e3a07c59-3cdc-4099-c5f7-585d4dedee61"
      },
      "outputs": [
        {
          "output_type": "stream",
          "name": "stdout",
          "text": [
            "+----------+---------------+\n",
            "|countMajor|count(Director)|\n",
            "+----------+---------------+\n",
            "|      2926|           1870|\n",
            "+----------+---------------+\n",
            "\n"
          ]
        }
      ],
      "source": [
        "moviesDF.select(count(moviesDF.Major_Genre).alias(\"countMajor\"), count(moviesDF.Director)).show()"
      ]
    },
    {
      "cell_type": "code",
      "execution_count": 18,
      "metadata": {
        "colab": {
          "base_uri": "https://localhost:8080/"
        },
        "id": "nWOO2IBsvlYL",
        "outputId": "24a69e3b-1c88-403c-e2ef-a96cd10d233c"
      },
      "outputs": [
        {
          "output_type": "stream",
          "name": "stdout",
          "text": [
            "+---------------+\n",
            "|count(Director)|\n",
            "+---------------+\n",
            "|           1870|\n",
            "+---------------+\n",
            "\n",
            "+-----+\n",
            "|count|\n",
            "+-----+\n",
            "| 1870|\n",
            "+-----+\n",
            "\n"
          ]
        }
      ],
      "source": [
        "#using SQL syntax\n",
        "moviesDF.select(expr(\"count(Director)\")).show()\n",
        "moviesDF.selectExpr(\"count(Director) as count\").show()"
      ]
    },
    {
      "cell_type": "code",
      "execution_count": 19,
      "metadata": {
        "id": "QOje34ZavlYL"
      },
      "outputs": [],
      "source": [
        "# using SQL\n",
        "moviesDF.createOrReplaceTempView(\"movies\")"
      ]
    },
    {
      "cell_type": "code",
      "execution_count": 20,
      "metadata": {
        "colab": {
          "base_uri": "https://localhost:8080/"
        },
        "id": "-UTqpjafvlYM",
        "outputId": "298061ca-657e-473c-f0e6-6feabc29bed0"
      },
      "outputs": [
        {
          "output_type": "stream",
          "name": "stdout",
          "text": [
            "+---------------+\n",
            "|count(Director)|\n",
            "+---------------+\n",
            "|           1870|\n",
            "+---------------+\n",
            "\n"
          ]
        }
      ],
      "source": [
        "spark.sql(\"select count(Director) from movies\").show()"
      ]
    },
    {
      "cell_type": "code",
      "execution_count": 21,
      "metadata": {
        "colab": {
          "base_uri": "https://localhost:8080/"
        },
        "id": "-bsgNq42vlYM",
        "outputId": "17e355ce-9e83-4014-a932-979b5791bfc9"
      },
      "outputs": [
        {
          "output_type": "stream",
          "name": "stdout",
          "text": [
            "+-------------+------------------+\n",
            "|countDirector|count(Major_Genre)|\n",
            "+-------------+------------------+\n",
            "|         1870|              2926|\n",
            "+-------------+------------------+\n",
            "\n"
          ]
        }
      ],
      "source": [
        "spark.sql(\"select count(Director) as countDirector, count(Major_Genre) from movies\").show()"
      ]
    },
    {
      "cell_type": "markdown",
      "metadata": {
        "id": "7tD9smRhvlYM"
      },
      "source": [
        "Count Distinct"
      ]
    },
    {
      "cell_type": "code",
      "execution_count": 22,
      "metadata": {
        "colab": {
          "base_uri": "https://localhost:8080/"
        },
        "id": "ngR6WFUovlYM",
        "outputId": "e20fcbfb-5485-48b9-a96a-8f0c406625b3"
      },
      "outputs": [
        {
          "output_type": "stream",
          "name": "stdout",
          "text": [
            "+---------------------------+\n",
            "|count(DISTINCT Major_Genre)|\n",
            "+---------------------------+\n",
            "|                         12|\n",
            "+---------------------------+\n",
            "\n"
          ]
        }
      ],
      "source": [
        "moviesDF.select(countDistinct(moviesDF.Major_Genre)).show()"
      ]
    },
    {
      "cell_type": "code",
      "execution_count": 23,
      "metadata": {
        "colab": {
          "base_uri": "https://localhost:8080/"
        },
        "id": "65m9Ev4MvlYM",
        "outputId": "1879e5a0-4bdd-41b3-b7c5-669a975da05e"
      },
      "outputs": [
        {
          "output_type": "stream",
          "name": "stdout",
          "text": [
            "+---------------------------+\n",
            "|count(DISTINCT Major_Genre)|\n",
            "+---------------------------+\n",
            "|                         12|\n",
            "+---------------------------+\n",
            "\n"
          ]
        }
      ],
      "source": [
        "spark.sql(\"select count(distinct Major_Genre) from movies\").show()"
      ]
    },
    {
      "cell_type": "markdown",
      "metadata": {
        "id": "wpwLzjsovlYM"
      },
      "source": [
        "Min and max"
      ]
    },
    {
      "cell_type": "code",
      "execution_count": 24,
      "metadata": {
        "colab": {
          "base_uri": "https://localhost:8080/"
        },
        "id": "FPOzkXPEvlYN",
        "outputId": "594b2f40-16a5-4d71-8886-232f0754178a"
      },
      "outputs": [
        {
          "output_type": "stream",
          "name": "stdout",
          "text": [
            "+----------------------+----------------------+\n",
            "|min(Production_Budget)|max(Production_Budget)|\n",
            "+----------------------+----------------------+\n",
            "|                   218|             300000000|\n",
            "+----------------------+----------------------+\n",
            "\n"
          ]
        }
      ],
      "source": [
        "moviesDF.select(min(moviesDF.Production_Budget), max(moviesDF.Production_Budget)).show()"
      ]
    },
    {
      "cell_type": "code",
      "execution_count": 25,
      "metadata": {
        "colab": {
          "base_uri": "https://localhost:8080/"
        },
        "id": "pY6U_O43vlYN",
        "outputId": "f55f45bc-aa8e-4010-8d07-871d55a2d1b7"
      },
      "outputs": [
        {
          "output_type": "stream",
          "name": "stdout",
          "text": [
            "+----------------------+\n",
            "|min(Production_Budget)|\n",
            "+----------------------+\n",
            "|                   218|\n",
            "+----------------------+\n",
            "\n"
          ]
        }
      ],
      "source": [
        "spark.sql(\"select min(Production_Budget) from movies\").show()"
      ]
    },
    {
      "cell_type": "markdown",
      "metadata": {
        "id": "ID9Q9X7EvlYN"
      },
      "source": [
        "Sum"
      ]
    },
    {
      "cell_type": "code",
      "execution_count": 26,
      "metadata": {
        "colab": {
          "base_uri": "https://localhost:8080/"
        },
        "id": "RHKzZO-6vlYN",
        "outputId": "6f056d96-6b4e-4f8c-e2b2-9b6c8cac6f4b"
      },
      "outputs": [
        {
          "output_type": "stream",
          "name": "stdout",
          "text": [
            "+-----------+\n",
            "|    salesUS|\n",
            "+-----------+\n",
            "|19684472405|\n",
            "+-----------+\n",
            "\n",
            "+-----------+\n",
            "|      sales|\n",
            "+-----------+\n",
            "|19684472405|\n",
            "+-----------+\n",
            "\n"
          ]
        }
      ],
      "source": [
        "moviesDF.select(sum(moviesDF.US_DVD_Sales).alias(\"salesUS\")).show()\n",
        "moviesDF.selectExpr(\"sum(US_DVD_Sales) as sales\").show()"
      ]
    },
    {
      "cell_type": "markdown",
      "metadata": {
        "id": "Yq5pF3mLvlYN"
      },
      "source": [
        "Average"
      ]
    },
    {
      "cell_type": "code",
      "execution_count": 27,
      "metadata": {
        "colab": {
          "base_uri": "https://localhost:8080/"
        },
        "id": "fDVmzYTsvlYN",
        "outputId": "9d543bad-3dba-4f24-b557-01beb03c8d66"
      },
      "outputs": [
        {
          "output_type": "stream",
          "name": "stdout",
          "text": [
            "+----------------------+\n",
            "|avg(Production_Budget)|\n",
            "+----------------------+\n",
            "|    3.10691714484375E7|\n",
            "+----------------------+\n",
            "\n",
            "+----------------------+\n",
            "|avg(Production_Budget)|\n",
            "+----------------------+\n",
            "|    3.10691714484375E7|\n",
            "+----------------------+\n",
            "\n"
          ]
        }
      ],
      "source": [
        "moviesDF.select(avg(moviesDF.Production_Budget)).show()\n",
        "spark.sql(\"select avg(Production_Budget) from movies\").show()"
      ]
    },
    {
      "cell_type": "markdown",
      "metadata": {
        "id": "4RLegmspvlYN"
      },
      "source": [
        "Stats"
      ]
    },
    {
      "cell_type": "code",
      "execution_count": 28,
      "metadata": {
        "colab": {
          "base_uri": "https://localhost:8080/"
        },
        "id": "WTJQxCazvlYO",
        "outputId": "39c4f3ee-d214-4102-d4ec-6974113325ad"
      },
      "outputs": [
        {
          "output_type": "stream",
          "name": "stdout",
          "text": [
            "+---------------------------+\n",
            "|avg(Rotten_Tomatoes_Rating)|\n",
            "+---------------------------+\n",
            "|          54.33692373976734|\n",
            "+---------------------------+\n",
            "\n",
            "+------------------------------+\n",
            "|stddev(Rotten_Tomatoes_Rating)|\n",
            "+------------------------------+\n",
            "|             28.07659263787602|\n",
            "+------------------------------+\n",
            "\n"
          ]
        }
      ],
      "source": [
        "moviesDF.select(mean(moviesDF.Rotten_Tomatoes_Rating)).show()\n",
        "moviesDF.select(stddev(moviesDF.Rotten_Tomatoes_Rating)).show()"
      ]
    },
    {
      "cell_type": "markdown",
      "metadata": {
        "id": "BrbK9dgcvlYO"
      },
      "source": [
        "### Grouping\n",
        "\n",
        "---"
      ]
    },
    {
      "cell_type": "code",
      "execution_count": 29,
      "metadata": {
        "colab": {
          "base_uri": "https://localhost:8080/"
        },
        "id": "yYrN8U1ZvlYO",
        "outputId": "c4ad6bd5-da51-4f3e-89e3-bf4dfdf81962"
      },
      "outputs": [
        {
          "output_type": "stream",
          "name": "stdout",
          "text": [
            "+-------------------+-----+\n",
            "|        Major_Genre|count|\n",
            "+-------------------+-----+\n",
            "|Concert/Performance|    5|\n",
            "|       Black Comedy|   36|\n",
            "|            Western|   36|\n",
            "|        Documentary|   43|\n",
            "|            Musical|   53|\n",
            "|    Romantic Comedy|  137|\n",
            "|             Horror|  219|\n",
            "|  Thriller/Suspense|  239|\n",
            "|          Adventure|  274|\n",
            "|               NULL|  275|\n",
            "|             Action|  420|\n",
            "|             Comedy|  675|\n",
            "|              Drama|  789|\n",
            "+-------------------+-----+\n",
            "\n"
          ]
        }
      ],
      "source": [
        "countByGenreGF = moviesDF.groupBy(moviesDF.Major_Genre).count().orderBy(\"count\")\n",
        "countByGenreGF.show()"
      ]
    },
    {
      "cell_type": "code",
      "execution_count": 30,
      "metadata": {
        "colab": {
          "base_uri": "https://localhost:8080/"
        },
        "id": "ZZO4-ux9vlYO",
        "outputId": "327e8211-6afc-49eb-bc6c-5edd222836c8"
      },
      "outputs": [
        {
          "output_type": "stream",
          "name": "stdout",
          "text": [
            "+-------------------+-----+\n",
            "|        Major_Genre|count|\n",
            "+-------------------+-----+\n",
            "|Concert/Performance|    5|\n",
            "|       Black Comedy|   36|\n",
            "|            Western|   36|\n",
            "|        Documentary|   43|\n",
            "|            Musical|   53|\n",
            "|    Romantic Comedy|  137|\n",
            "|             Horror|  219|\n",
            "|  Thriller/Suspense|  239|\n",
            "|          Adventure|  274|\n",
            "|             Action|  420|\n",
            "|             Comedy|  675|\n",
            "|              Drama|  789|\n",
            "+-------------------+-----+\n",
            "\n"
          ]
        }
      ],
      "source": [
        "spark.sql(\"select Major_Genre, count(Major_Genre) as count from movies where Major_Genre is not null group by Major_Genre order by count\").show()"
      ]
    },
    {
      "cell_type": "code",
      "execution_count": 31,
      "metadata": {
        "colab": {
          "base_uri": "https://localhost:8080/"
        },
        "id": "eITO9H-gvlYO",
        "outputId": "c6aaadf8-5094-453b-e74f-1bdf2c71f2c7"
      },
      "outputs": [
        {
          "output_type": "stream",
          "name": "stdout",
          "text": [
            "+-------------------+------------------+\n",
            "|        Major_Genre|  avg(IMDB_Rating)|\n",
            "+-------------------+------------------+\n",
            "|        Documentary| 6.997297297297298|\n",
            "|            Western| 6.842857142857142|\n",
            "|       Black Comedy|6.8187500000000005|\n",
            "|              Drama| 6.773441734417339|\n",
            "|               NULL|  6.50082644628099|\n",
            "|            Musical|             6.448|\n",
            "|  Thriller/Suspense| 6.360944206008582|\n",
            "|          Adventure| 6.345019920318729|\n",
            "|Concert/Performance|             6.325|\n",
            "|             Action| 6.114795918367349|\n",
            "|    Romantic Comedy| 5.873076923076922|\n",
            "|             Comedy| 5.853858267716529|\n",
            "|             Horror|5.6760765550239185|\n",
            "+-------------------+------------------+\n",
            "\n"
          ]
        }
      ],
      "source": [
        "avgRatingByGenreDF = moviesDF.groupBy(col(\"Major_Genre\")).avg(\"IMDB_Rating\").orderBy(col(\"avg(IMDB_Rating)\").desc())\n",
        "avgRatingByGenreDF.show()"
      ]
    },
    {
      "cell_type": "code",
      "execution_count": 33,
      "metadata": {
        "colab": {
          "base_uri": "https://localhost:8080/"
        },
        "id": "vnmu7fuovlYO",
        "outputId": "08c2eeb9-6201-4474-975a-c78df3545efa"
      },
      "outputs": [
        {
          "output_type": "stream",
          "name": "stdout",
          "text": [
            "+-------------------+------------------+\n",
            "|        Major_Genre|               avg|\n",
            "+-------------------+------------------+\n",
            "|        Documentary| 6.997297297297298|\n",
            "|            Western| 6.842857142857142|\n",
            "|       Black Comedy|6.8187500000000005|\n",
            "|              Drama| 6.773441734417339|\n",
            "|               NULL|  6.50082644628099|\n",
            "|            Musical|             6.448|\n",
            "|  Thriller/Suspense| 6.360944206008582|\n",
            "|          Adventure| 6.345019920318729|\n",
            "|Concert/Performance|             6.325|\n",
            "|             Action| 6.114795918367349|\n",
            "|    Romantic Comedy| 5.873076923076922|\n",
            "|             Comedy| 5.853858267716529|\n",
            "|             Horror|5.6760765550239185|\n",
            "+-------------------+------------------+\n",
            "\n"
          ]
        }
      ],
      "source": [
        "moviesDF.groupBy(col(\"Major_Genre\")).agg(avg(\"IMDB_Rating\") \\\n",
        "    .alias(\"avg\")).orderBy(col(\"avg\").desc()).show()"
      ]
    },
    {
      "cell_type": "code",
      "execution_count": 34,
      "metadata": {
        "colab": {
          "base_uri": "https://localhost:8080/"
        },
        "id": "2fk-AjXIvlYO",
        "outputId": "96ee3377-2de1-4afb-ab0c-71b7c543d81a"
      },
      "outputs": [
        {
          "output_type": "stream",
          "name": "stdout",
          "text": [
            "+-------------------+--------+------------------+\n",
            "|        Major_Genre|N_Movies|            rating|\n",
            "+-------------------+--------+------------------+\n",
            "|        Documentary|      43| 6.997297297297298|\n",
            "|            Western|      36| 6.842857142857142|\n",
            "|       Black Comedy|      36|6.8187500000000005|\n",
            "|              Drama|     789| 6.773441734417339|\n",
            "|               NULL|     275|  6.50082644628099|\n",
            "|            Musical|      53|             6.448|\n",
            "|  Thriller/Suspense|     239| 6.360944206008582|\n",
            "|          Adventure|     274| 6.345019920318729|\n",
            "|Concert/Performance|       5|             6.325|\n",
            "|             Action|     420| 6.114795918367349|\n",
            "|    Romantic Comedy|     137| 5.873076923076922|\n",
            "|             Comedy|     675| 5.853858267716529|\n",
            "|             Horror|     219|5.6760765550239185|\n",
            "+-------------------+--------+------------------+\n",
            "\n"
          ]
        }
      ],
      "source": [
        "aggregationsByGenreDF = moviesDF.groupBy(\"Major_Genre\") \\\n",
        "    .agg(\n",
        "        count(\"*\").alias(\"N_Movies\"),\n",
        "        avg(\"IMDB_Rating\").alias(\"rating\")\n",
        "    ) \\\n",
        "    .orderBy(col(\"rating\").desc()).show()"
      ]
    },
    {
      "cell_type": "markdown",
      "metadata": {
        "id": "cQ3xjlDxvlYP"
      },
      "source": [
        "## Exercises\n",
        "   1. Sum up all the worldwide profits of ALL the movies in the DF. Then sum the worldwide profits per director\n",
        "   2. Count how many distinct directors we have\n",
        "   3. Show the mean and standard deviation of US gross revenue for the movies (all the movies)\n",
        "   4. Compute the average IMDB rating and the average US gross revenue PER DIRECTOR\n",
        "   5. Sum up ALL the profits of ALL the movies in the DF. Then sum ALL the profits per director. Can you see null values? Why? How you can solve it?\n"
      ]
    },
    {
      "cell_type": "markdown",
      "metadata": {
        "id": "dzh5hcajvlYP"
      },
      "source": [
        "Exercise 1"
      ]
    },
    {
      "cell_type": "markdown",
      "metadata": {
        "id": "x_KjX-qxvlYP"
      },
      "source": [
        "Exercise 2"
      ]
    },
    {
      "cell_type": "markdown",
      "metadata": {
        "id": "x6iJ5GWlvlYQ"
      },
      "source": [
        "Exercise 3"
      ]
    },
    {
      "cell_type": "markdown",
      "metadata": {
        "id": "qTyt8CotvlYQ"
      },
      "source": [
        "Exercise 4"
      ]
    },
    {
      "cell_type": "markdown",
      "metadata": {
        "id": "HOs_Y_y0vlYQ"
      },
      "source": [
        "Exercise 5"
      ]
    }
  ],
  "metadata": {
    "colab": {
      "collapsed_sections": [
        "M7Ab75vzvlYK",
        "BrbK9dgcvlYO",
        "cQ3xjlDxvlYP"
      ],
      "provenance": []
    },
    "kernelspec": {
      "display_name": "Python 3.10.0 64-bit",
      "language": "python",
      "name": "python3"
    },
    "language_info": {
      "codemirror_mode": {
        "name": "ipython",
        "version": 3
      },
      "file_extension": ".py",
      "mimetype": "text/x-python",
      "name": "python",
      "nbconvert_exporter": "python",
      "pygments_lexer": "ipython3",
      "version": "3.10.0"
    },
    "orig_nbformat": 4,
    "vscode": {
      "interpreter": {
        "hash": "ff1af5cda0bea4fe5c4ebc1f94ab9f13d8998f98d08e16d8aba48673b9d00116"
      }
    }
  },
  "nbformat": 4,
  "nbformat_minor": 0
}